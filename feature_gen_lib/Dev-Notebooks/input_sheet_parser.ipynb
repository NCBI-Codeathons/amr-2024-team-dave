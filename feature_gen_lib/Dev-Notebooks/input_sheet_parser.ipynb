{
 "cells": [
  {
   "cell_type": "code",
   "id": "initial_id",
   "metadata": {
    "collapsed": true,
    "ExecuteTime": {
     "end_time": "2024-09-25T16:21:40.402732Z",
     "start_time": "2024-09-25T16:21:40.388453Z"
    }
   },
   "source": [
    "import pandas as pd\n",
    "from ete3 import NCBITaxa\n",
    "from sklearn.model_selection import train_test_split\n",
    "import os"
   ],
   "outputs": [],
   "execution_count": 2
  },
  {
   "metadata": {
    "ExecuteTime": {
     "end_time": "2024-09-25T02:54:52.877802Z",
     "start_time": "2024-09-25T02:54:52.862127Z"
    }
   },
   "cell_type": "code",
   "source": "dataframe = './test_data/ab-taxid-targetacc.csv'",
   "id": "c1178840e2cb5e64",
   "outputs": [],
   "execution_count": 6
  },
  {
   "metadata": {
    "ExecuteTime": {
     "end_time": "2024-09-25T02:54:55.591686Z",
     "start_time": "2024-09-25T02:54:53.005972Z"
    }
   },
   "cell_type": "code",
   "source": [
    "#Import dataframe\n",
    "df = pd.read_csv(dataframe)\n",
    "# setting taxid to string\n",
    "df['taxid'] = df['taxid'].astype(str)"
   ],
   "id": "4d7a08b703978a59",
   "outputs": [],
   "execution_count": 7
  },
  {
   "metadata": {
    "ExecuteTime": {
     "end_time": "2024-09-25T02:54:58.090908Z",
     "start_time": "2024-09-25T02:54:55.594794Z"
    }
   },
   "cell_type": "code",
   "source": [
    "# Checking out dataframe\n",
    "df.describe()"
   ],
   "id": "7f0dbc4277c9430f",
   "outputs": [
    {
     "data": {
      "text/plain": [
       "            target_acc    taxid\n",
       "count          2057543  2057543\n",
       "unique         2057543    18070\n",
       "top     PDT000113968.2    28901\n",
       "freq                 1   401268"
      ],
      "text/html": [
       "<div>\n",
       "<style scoped>\n",
       "    .dataframe tbody tr th:only-of-type {\n",
       "        vertical-align: middle;\n",
       "    }\n",
       "\n",
       "    .dataframe tbody tr th {\n",
       "        vertical-align: top;\n",
       "    }\n",
       "\n",
       "    .dataframe thead th {\n",
       "        text-align: right;\n",
       "    }\n",
       "</style>\n",
       "<table border=\"1\" class=\"dataframe\">\n",
       "  <thead>\n",
       "    <tr style=\"text-align: right;\">\n",
       "      <th></th>\n",
       "      <th>target_acc</th>\n",
       "      <th>taxid</th>\n",
       "    </tr>\n",
       "  </thead>\n",
       "  <tbody>\n",
       "    <tr>\n",
       "      <th>count</th>\n",
       "      <td>2057543</td>\n",
       "      <td>2057543</td>\n",
       "    </tr>\n",
       "    <tr>\n",
       "      <th>unique</th>\n",
       "      <td>2057543</td>\n",
       "      <td>18070</td>\n",
       "    </tr>\n",
       "    <tr>\n",
       "      <th>top</th>\n",
       "      <td>PDT000113968.2</td>\n",
       "      <td>28901</td>\n",
       "    </tr>\n",
       "    <tr>\n",
       "      <th>freq</th>\n",
       "      <td>1</td>\n",
       "      <td>401268</td>\n",
       "    </tr>\n",
       "  </tbody>\n",
       "</table>\n",
       "</div>"
      ]
     },
     "execution_count": 8,
     "metadata": {},
     "output_type": "execute_result"
    }
   ],
   "execution_count": 8
  },
  {
   "metadata": {
    "ExecuteTime": {
     "end_time": "2024-09-25T03:50:07.720540Z",
     "start_time": "2024-09-25T03:50:07.499436Z"
    }
   },
   "cell_type": "code",
   "source": [
    "# Checking number of unique taxids - There are way too many\n",
    "len(df['taxid'].unique())"
   ],
   "id": "def7353a3eeedb09",
   "outputs": [
    {
     "data": {
      "text/plain": [
       "18070"
      ]
     },
     "execution_count": 23,
     "metadata": {},
     "output_type": "execute_result"
    }
   ],
   "execution_count": 23
  },
  {
   "metadata": {
    "ExecuteTime": {
     "end_time": "2024-09-25T02:58:59.356568Z",
     "start_time": "2024-09-25T02:58:59.325001Z"
    }
   },
   "cell_type": "code",
   "source": [
    "# Initialize the NCBITaxa object\n",
    "ncbi = NCBITaxa()\n",
    "\n",
    "# List of TaxIDs (example list, replace with your own)\n",
    "taxid_list = [1284325]  # Replace with your own TaxIDs\n",
    "\n",
    "# Function to get species-level TaxID for each input TaxID\n",
    "def get_species_taxid(taxid):\n",
    "    # Get the lineage for the TaxID\n",
    "    lineage = ncbi.get_lineage(taxid)\n",
    "    \n",
    "    # Get the names and ranks of each level in the lineage\n",
    "    names = ncbi.get_taxid_translator(lineage)\n",
    "    ranks = ncbi.get_rank(lineage)\n",
    "    \n",
    "    # Find the species-level TaxID\n",
    "    for tid in lineage:\n",
    "        if ranks[tid] == 'species':\n",
    "            return tid, names[tid]\n",
    "    \n",
    "    # If species not found, return None\n",
    "    return None, None"
   ],
   "id": "5a355ba76a726764",
   "outputs": [
    {
     "name": "stdout",
     "output_type": "stream",
     "text": [
      "Species TaxID: 28901, Species Name: Salmonella enterica\n"
     ]
    }
   ],
   "execution_count": 17
  },
  {
   "metadata": {
    "ExecuteTime": {
     "end_time": "2024-09-25T03:25:50.042055Z",
     "start_time": "2024-09-25T03:03:16.131720Z"
    }
   },
   "cell_type": "code",
   "source": [
    "# Apply the function to the 'TaxID' column and expand into two new columns\n",
    "df[['Base_Species_TaxID', 'Species_Name']] = df['taxid'].apply(lambda x: pd.Series(get_species_taxid(x)))"
   ],
   "id": "24701f8b54990b15",
   "outputs": [],
   "execution_count": 21
  },
  {
   "metadata": {
    "ExecuteTime": {
     "end_time": "2024-09-25T03:50:25.086656Z",
     "start_time": "2024-09-25T03:50:24.003068Z"
    }
   },
   "cell_type": "code",
   "source": [
    "# Setting base taxid to a string\n",
    "df['Base_Species_TaxID'] = df['Base_Species_TaxID'].astype(str)"
   ],
   "id": "2a0e2f17fd440079",
   "outputs": [],
   "execution_count": 24
  },
  {
   "metadata": {
    "ExecuteTime": {
     "end_time": "2024-09-25T03:53:50.086493Z",
     "start_time": "2024-09-25T03:53:46.714234Z"
    }
   },
   "cell_type": "code",
   "source": [
    "# Checking out new DF\n",
    "df.describe()\n",
    "# Looks good now we can see everything has been charcterized into 754 species"
   ],
   "id": "959e82c293ed9f7c",
   "outputs": [
    {
     "data": {
      "text/plain": [
       "            target_acc    taxid Base_Species_TaxID         Species_Name\n",
       "count          2057543  2057543            2057543              2057543\n",
       "unique         2057543    18070                754                  754\n",
       "top     PDT000113968.2    28901              28901  Salmonella enterica\n",
       "freq                 1   401268             671635               671635"
      ],
      "text/html": [
       "<div>\n",
       "<style scoped>\n",
       "    .dataframe tbody tr th:only-of-type {\n",
       "        vertical-align: middle;\n",
       "    }\n",
       "\n",
       "    .dataframe tbody tr th {\n",
       "        vertical-align: top;\n",
       "    }\n",
       "\n",
       "    .dataframe thead th {\n",
       "        text-align: right;\n",
       "    }\n",
       "</style>\n",
       "<table border=\"1\" class=\"dataframe\">\n",
       "  <thead>\n",
       "    <tr style=\"text-align: right;\">\n",
       "      <th></th>\n",
       "      <th>target_acc</th>\n",
       "      <th>taxid</th>\n",
       "      <th>Base_Species_TaxID</th>\n",
       "      <th>Species_Name</th>\n",
       "    </tr>\n",
       "  </thead>\n",
       "  <tbody>\n",
       "    <tr>\n",
       "      <th>count</th>\n",
       "      <td>2057543</td>\n",
       "      <td>2057543</td>\n",
       "      <td>2057543</td>\n",
       "      <td>2057543</td>\n",
       "    </tr>\n",
       "    <tr>\n",
       "      <th>unique</th>\n",
       "      <td>2057543</td>\n",
       "      <td>18070</td>\n",
       "      <td>754</td>\n",
       "      <td>754</td>\n",
       "    </tr>\n",
       "    <tr>\n",
       "      <th>top</th>\n",
       "      <td>PDT000113968.2</td>\n",
       "      <td>28901</td>\n",
       "      <td>28901</td>\n",
       "      <td>Salmonella enterica</td>\n",
       "    </tr>\n",
       "    <tr>\n",
       "      <th>freq</th>\n",
       "      <td>1</td>\n",
       "      <td>401268</td>\n",
       "      <td>671635</td>\n",
       "      <td>671635</td>\n",
       "    </tr>\n",
       "  </tbody>\n",
       "</table>\n",
       "</div>"
      ]
     },
     "execution_count": 26,
     "metadata": {},
     "output_type": "execute_result"
    }
   ],
   "execution_count": 26
  },
  {
   "metadata": {
    "ExecuteTime": {
     "end_time": "2024-09-25T04:07:37.537891Z",
     "start_time": "2024-09-25T04:07:37.522200Z"
    }
   },
   "cell_type": "code",
   "source": [
    "# Target Species\n",
    "\n",
    "target_species = {}\n",
    "\n",
    "#Enterococcus faecium\n",
    "ef_taxid = '1352'\n",
    "target_species['Enterococcus faecium'] = ef_taxid\n",
    "\n",
    "#Staphylococcus aureus\n",
    "sa_taxid = '1280'\n",
    "target_species['Staphylococcus aureus'] = sa_taxid\n",
    "\n",
    "#Klebsiella pneumoniae\n",
    "kp_taxid = '573'\n",
    "target_species['Klebsiella pneumoniae'] = kp_taxid\n",
    "\n",
    "#Acinetobacter baumannii\n",
    "ab_taxid = '470'\n",
    "target_species['Acinetobacter baumannii'] = ab_taxid\n",
    "\n",
    "#Pseudomonas aeruginosa\n",
    "pa_taxid = '287'\n",
    "target_species['Pseudomonas aeruginosa'] = pa_taxid"
   ],
   "id": "ba9d37f22eb38b50",
   "outputs": [],
   "execution_count": 33
  },
  {
   "metadata": {
    "ExecuteTime": {
     "end_time": "2024-09-25T04:07:38.992053Z",
     "start_time": "2024-09-25T04:07:38.007697Z"
    }
   },
   "cell_type": "code",
   "source": [
    "for species,taxid in target_species.items():\n",
    "    \n",
    "    print('There are ' + str(len(df.loc[df['Base_Species_TaxID'] == taxid])) + ' assemblies from ' + species) "
   ],
   "id": "12609e8a328d7cc0",
   "outputs": [
    {
     "name": "stdout",
     "output_type": "stream",
     "text": [
      "There are 40280 assemblies from Enterococcus faecium\n",
      "There are 120954 assemblies from Staphylococcus aureus\n",
      "There are 99500 assemblies from Klebsiella pneumoniae\n",
      "There are 34872 assemblies from Acinetobacter baumannii\n",
      "There are 38843 assemblies from Pseudomonas aeruginosa\n"
     ]
    }
   ],
   "execution_count": 34
  },
  {
   "metadata": {
    "ExecuteTime": {
     "end_time": "2024-09-25T04:20:27.451918Z",
     "start_time": "2024-09-25T04:20:24.901013Z"
    }
   },
   "cell_type": "code",
   "source": [
    "for species,taxid in target_species.items():\n",
    "    \n",
    "    subset_df = df.loc[df['Base_Species_TaxID'] == taxid]\n",
    "    \n",
    "    train_df, test_df = train_test_split(subset_df, test_size=0.2, random_state=42)\n",
    "    \n",
    "    file_name_test = species + '_test.csv'\n",
    "    file_name_train = species + '_train.csv'\n",
    "    \n",
    "    train_df.to_csv(os.path.join('./datasets', file_name_train), index=False)\n",
    "    test_df.to_csv(os.path.join('./datasets', file_name_test), index=False)"
   ],
   "id": "9753250810ff10af",
   "outputs": [],
   "execution_count": 41
  },
  {
   "metadata": {},
   "cell_type": "code",
   "outputs": [],
   "execution_count": null,
   "source": "",
   "id": "ab0c3029195e159f"
  }
 ],
 "metadata": {
  "kernelspec": {
   "display_name": "Python 3",
   "language": "python",
   "name": "python3"
  },
  "language_info": {
   "codemirror_mode": {
    "name": "ipython",
    "version": 2
   },
   "file_extension": ".py",
   "mimetype": "text/x-python",
   "name": "python",
   "nbconvert_exporter": "python",
   "pygments_lexer": "ipython2",
   "version": "2.7.6"
  }
 },
 "nbformat": 4,
 "nbformat_minor": 5
}
