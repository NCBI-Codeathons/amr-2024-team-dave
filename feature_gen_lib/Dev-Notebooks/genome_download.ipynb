{
 "cells": [
  {
   "metadata": {
    "ExecuteTime": {
     "end_time": "2024-09-25T16:40:51.372928Z",
     "start_time": "2024-09-25T16:40:51.355326Z"
    }
   },
   "cell_type": "code",
   "source": [
    "from Bio import Entrez, SeqIO\n",
    "import os\n",
    "import urllib.request\n",
    "\n",
    "# Set your email (NCBI requires this)\n",
    "Entrez.email = \"edwardbird@ksu.edu\"\n",
    "\n",
    "# Function to download assembly\n",
    "def download_assembly(accession, output_dir=\"assemblies\"):\n",
    "    try:\n",
    "        # Search for the assembly using the accession number\n",
    "        handle = Entrez.esearch(db=\"assembly\", term=accession)\n",
    "        record = Entrez.read(handle)\n",
    "        handle.close()\n",
    "        \n",
    "        # Check if any results found\n",
    "        if not record['IdList']:\n",
    "            print(f\"No assembly found for {accession}\")\n",
    "            return\n",
    "\n",
    "        # Fetch the assembly details using the ID\n",
    "        assembly_id = record['IdList'][0]\n",
    "        handle = Entrez.esummary(db=\"assembly\", id=assembly_id, report=\"full\")\n",
    "        summary = Entrez.read(handle)\n",
    "        handle.close()\n",
    "        \n",
    "        # Get FTP link for downloading the assembly (fna file, genomic data)\n",
    "        ftp_path = summary['DocumentSummarySet']['DocumentSummary'][0]['FtpPath_GenBank']\n",
    "        if ftp_path == \"\":\n",
    "            print(f\"No FTP link found for {accession}\")\n",
    "            return\n",
    "\n",
    "        # Assemble the full URL for the genomic fasta file (fna)\n",
    "        file_name = os.path.basename(ftp_path) + \"_genomic.fna.gz\"\n",
    "        ftp_link = ftp_path + \"/\" + file_name\n",
    "\n",
    "        # Download the file\n",
    "        os.makedirs(output_dir, exist_ok=True)\n",
    "        output_file = os.path.join(output_dir, file_name)\n",
    "        print(f\"Downloading {file_name} ...\")\n",
    "        ftp_link = 'https' + ftp_link[3:]\n",
    "        print(ftp_link)\n",
    "        urllib.request.urlretrieve(ftp_link, output_file)\n",
    "        print(f\"Downloaded to {output_file}\")\n",
    "    \n",
    "    except Exception as e:\n",
    "        print(f\"Error downloading {accession}: {e}\")"
   ],
   "id": "9a29eddb8b22851e",
   "outputs": [],
   "execution_count": 20
  },
  {
   "metadata": {
    "ExecuteTime": {
     "end_time": "2024-09-25T16:41:09.074578Z",
     "start_time": "2024-09-25T16:41:06.540528Z"
    }
   },
   "cell_type": "code",
   "source": [
    "# List of assembly accession names\n",
    "assembly_list = [\"PDT002066735.1\", \"PDT002264259.1\"]  # Add your assembly names here\n",
    "\n",
    "# Download all assemblies\n",
    "for assembly in assembly_list:\n",
    "    download_assembly(assembly)"
   ],
   "id": "8a247548a583b41f",
   "outputs": [
    {
     "name": "stdout",
     "output_type": "stream",
     "text": [
      "Downloading GCA_036249645.1_PDT002066735.1_genomic.fna.gz ...\n",
      "https://ftp.ncbi.nlm.nih.gov/genomes/all/GCA/036/249/645/GCA_036249645.1_PDT002066735.1/GCA_036249645.1_PDT002066735.1_genomic.fna.gz\n",
      "Downloaded to assemblies\\GCA_036249645.1_PDT002066735.1_genomic.fna.gz\n",
      "Downloading GCA_040868165.1_PDT002264259.1_genomic.fna.gz ...\n",
      "https://ftp.ncbi.nlm.nih.gov/genomes/all/GCA/040/868/165/GCA_040868165.1_PDT002264259.1/GCA_040868165.1_PDT002264259.1_genomic.fna.gz\n",
      "Downloaded to assemblies\\GCA_040868165.1_PDT002264259.1_genomic.fna.gz\n"
     ]
    }
   ],
   "execution_count": 22
  },
  {
   "metadata": {},
   "cell_type": "code",
   "outputs": [],
   "execution_count": null,
   "source": "",
   "id": "34b99b8333217f77"
  }
 ],
 "metadata": {
  "kernelspec": {
   "display_name": "Python 3",
   "language": "python",
   "name": "python3"
  },
  "language_info": {
   "codemirror_mode": {
    "name": "ipython",
    "version": 2
   },
   "file_extension": ".py",
   "mimetype": "text/x-python",
   "name": "python",
   "nbconvert_exporter": "python",
   "pygments_lexer": "ipython2",
   "version": "2.7.6"
  }
 },
 "nbformat": 4,
 "nbformat_minor": 5
}
