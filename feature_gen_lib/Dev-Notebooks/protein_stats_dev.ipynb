{
 "cells": [
  {
   "metadata": {},
   "cell_type": "markdown",
   "source": "## Importing Protein Fasta",
   "id": "5de67afd25c5eb1d"
  },
  {
   "metadata": {
    "ExecuteTime": {
     "end_time": "2024-09-24T19:50:47.212141Z",
     "start_time": "2024-09-24T19:50:47.048617Z"
    }
   },
   "cell_type": "code",
   "source": "from Bio import SeqIO",
   "id": "initial_id",
   "outputs": [],
   "execution_count": 69
  },
  {
   "metadata": {
    "ExecuteTime": {
     "end_time": "2024-09-24T21:56:37.310657Z",
     "start_time": "2024-09-24T21:56:37.289898Z"
    }
   },
   "cell_type": "code",
   "source": [
    "def read_protein_fasta(fasta):\n",
    "    \"\"\"\n",
    "    Function that imports a protein fasta file into a dictionary\n",
    "    \"\"\"\n",
    "    with open(fasta, \"r\") as fasta_file:\n",
    "        fasta_dict = {}\n",
    "        for record in SeqIO.parse(fasta_file, \"fasta\"):\n",
    "            fasta_dict[record.id] = str(record.seq)  # Convert sequence to a string if needed\n",
    "    return fasta, fasta_dict"
   ],
   "id": "d5c71e77952fd900",
   "outputs": [],
   "execution_count": 100
  },
  {
   "metadata": {
    "ExecuteTime": {
     "end_time": "2024-09-24T21:57:28.483168Z",
     "start_time": "2024-09-24T21:57:28.452604Z"
    }
   },
   "cell_type": "code",
   "source": [
    "protein_import = read_protein_fasta(\"./test_data/GCA_009697285_1.faa\")\n",
    "protein_dict = protein_import[1]\n",
    "output_folder = './Output/'"
   ],
   "id": "248af5c8dc4fae4e",
   "outputs": [],
   "execution_count": 110
  },
  {
   "metadata": {},
   "cell_type": "markdown",
   "source": "## AA Frequencies",
   "id": "99ed4006ed330c19"
  },
  {
   "metadata": {
    "ExecuteTime": {
     "end_time": "2024-09-24T22:01:43.239656Z",
     "start_time": "2024-09-24T22:01:42.314412Z"
    }
   },
   "cell_type": "code",
   "source": [
    "from itertools import product\n",
    "from Bio import SeqUtils\n",
    "import pandas as pd"
   ],
   "id": "8ffa150c2a1b7bc2",
   "outputs": [],
   "execution_count": 116
  },
  {
   "metadata": {
    "ExecuteTime": {
     "end_time": "2024-09-24T22:01:44.307445Z",
     "start_time": "2024-09-24T22:01:44.302915Z"
    }
   },
   "cell_type": "code",
   "source": [
    "def space_seperated_record(fasta_dict):\n",
    "    return ' '.join(str(value) for value in fasta_dict.values())"
   ],
   "id": "1f5fa117fdd60d",
   "outputs": [],
   "execution_count": 117
  },
  {
   "metadata": {
    "ExecuteTime": {
     "end_time": "2024-09-24T22:01:44.449268Z",
     "start_time": "2024-09-24T22:01:44.431458Z"
    }
   },
   "cell_type": "code",
   "source": [
    "def generate_combinations(nucleotides, X):\n",
    "    return [''.join(seq) for seq in product(nucleotides, repeat=X)]"
   ],
   "id": "756e3cdc33422406",
   "outputs": [],
   "execution_count": 118
  },
  {
   "metadata": {
    "ExecuteTime": {
     "end_time": "2024-09-24T22:01:44.604654Z",
     "start_time": "2024-09-24T22:01:44.586571Z"
    }
   },
   "cell_type": "code",
   "source": [
    "def get_aminoacids():\n",
    "    aa_list = []\n",
    "    for aa in SeqUtils.IUPACData.protein_letters:\n",
    "        aa_list.append(aa)\n",
    "    return aa_list"
   ],
   "id": "99646e455d6ff9c3",
   "outputs": [],
   "execution_count": 119
  },
  {
   "metadata": {
    "ExecuteTime": {
     "end_time": "2024-09-24T22:01:44.759752Z",
     "start_time": "2024-09-24T22:01:44.749623Z"
    }
   },
   "cell_type": "code",
   "source": [
    "def count_aminoacids(fasta_dict):\n",
    "    \n",
    "    seq = space_seperated_record(fasta_dict)\n",
    "    \n",
    "    sequence = seq.upper()\n",
    "\n",
    "    aa_list = get_aminoacids()\n",
    "\n",
    "    aa_counts = {}\n",
    "\n",
    "    for aa in aa_list:\n",
    "        aa_counts[aa] = sequence.count(aa)\n",
    "        \n",
    "    return aa_counts"
   ],
   "id": "a3a64d7f6903a66b",
   "outputs": [],
   "execution_count": 120
  },
  {
   "metadata": {
    "ExecuteTime": {
     "end_time": "2024-09-24T22:01:44.914585Z",
     "start_time": "2024-09-24T22:01:44.898072Z"
    }
   },
   "cell_type": "code",
   "source": [
    "def count_diaminoacids(fasta_dict):\n",
    "    \n",
    "    seq = space_seperated_record(fasta_dict)\n",
    "    \n",
    "    sequence = seq.upper()\n",
    "    \n",
    "    aa_list = get_aminoacids()\n",
    "    \n",
    "    di_aas = generate_combinations(aa_list, 2)\n",
    "    \n",
    "    di_aa_counts = {}\n",
    "\n",
    "    for di_aa in di_aas:\n",
    "        di_aa_counts[di_aa] = sequence.count(di_aa)\n",
    "        \n",
    "    return di_aa_counts"
   ],
   "id": "e8f443f128c0852b",
   "outputs": [],
   "execution_count": 121
  },
  {
   "metadata": {
    "ExecuteTime": {
     "end_time": "2024-09-24T22:01:45.086684Z",
     "start_time": "2024-09-24T22:01:45.069242Z"
    }
   },
   "cell_type": "code",
   "source": [
    "def count_triaminoacids(fasta_dict):\n",
    "    \n",
    "    seq = space_seperated_record(fasta_dict)\n",
    "    \n",
    "    sequence = seq.upper()\n",
    "    \n",
    "    aa_list = get_aminoacids()\n",
    "    \n",
    "    tri_aas = generate_combinations(aa_list, 3)\n",
    "    \n",
    "    tri_aa_counts = {}\n",
    "\n",
    "    for tri_aa in tri_aas:\n",
    "        tri_aa_counts[tri_aa] = sequence.count(tri_aa)\n",
    "        \n",
    "    return tri_aa_counts"
   ],
   "id": "689a652257e3c72a",
   "outputs": [],
   "execution_count": 122
  },
  {
   "metadata": {
    "ExecuteTime": {
     "end_time": "2024-09-24T22:01:45.476716Z",
     "start_time": "2024-09-24T22:01:45.456557Z"
    }
   },
   "cell_type": "code",
   "source": [
    "def create_dir(dir_path):\n",
    "    \"\"\"Create a directory if it does not exist.\"\"\"\n",
    "    try:\n",
    "        os.makedirs(dir_path, exist_ok=True)  # exist_ok=True avoids raising an error if the directory already exists\n",
    "        print(f\"Directory '{dir_path}' is created or already exists.\")\n",
    "    except Exception as e:\n",
    "        print(f\"Error creating directory: {e}\")"
   ],
   "id": "beae782e81271ef7",
   "outputs": [],
   "execution_count": 123
  },
  {
   "metadata": {
    "ExecuteTime": {
     "end_time": "2024-09-24T22:01:45.915754Z",
     "start_time": "2024-09-24T22:01:45.905738Z"
    }
   },
   "cell_type": "code",
   "source": [
    "def merge_dicts(dict1, dict2, dict3, dict4):\n",
    "    merged_dict = {**dict1, **dict2, **dict3, **dict4}\n",
    "    return merged_dict"
   ],
   "id": "9baf12f2415c3df2",
   "outputs": [],
   "execution_count": 124
  },
  {
   "metadata": {
    "ExecuteTime": {
     "end_time": "2024-09-24T22:01:46.338654Z",
     "start_time": "2024-09-24T22:01:46.320751Z"
    }
   },
   "cell_type": "code",
   "source": [
    "def create_db(protein_import, output_folder):\n",
    "    input_file = protein_import[0]\n",
    "    seq_dict = protein_import[1]\n",
    "\n",
    "    input_data = {}\n",
    "    input_data['file'] = protein_import[0]\n",
    "    aa_counts = count_aminoacids(seq_dict)\n",
    "    di_aa_counts = count_diaminoacids(seq_dict)\n",
    "    tri_aa_counts = count_triaminoacids(seq_dict)\n",
    "\n",
    "    data = merge_dicts(input_data, aa_counts, di_aa_counts, tri_aa_counts)\n",
    "\n",
    "    aa_freq_df = pd.DataFrame(data, index=[0])\n",
    "\n",
    "    file_prefix = os.path.splitext(os.path.basename(input_file))[0]\n",
    "\n",
    "    filename = file_prefix + '.aa_freq.csv'\n",
    "\n",
    "    output_path = os.path.join(output_folder, filename)\n",
    "\n",
    "    create_dir(output_folder)\n",
    "\n",
    "    aa_freq_df.to_csv(output_path, index=False)\n",
    "\n",
    "    return aa_freq_df"
   ],
   "id": "f51120032408a123",
   "outputs": [],
   "execution_count": 125
  },
  {
   "metadata": {
    "ExecuteTime": {
     "end_time": "2024-09-24T22:01:53.208438Z",
     "start_time": "2024-09-24T22:01:47.107932Z"
    }
   },
   "cell_type": "code",
   "source": "aa_df = create_db(protein_import, output_folder)",
   "id": "d59bec59b7f858dd",
   "outputs": [
    {
     "name": "stdout",
     "output_type": "stream",
     "text": [
      "Directory './Output/' is created or already exists.\n"
     ]
    }
   ],
   "execution_count": 126
  },
  {
   "metadata": {},
   "cell_type": "markdown",
   "source": "## Protein Gravy Weight",
   "id": "9e52fab288ac38e5"
  },
  {
   "metadata": {
    "ExecuteTime": {
     "end_time": "2024-09-24T19:50:47.737629Z",
     "start_time": "2024-09-24T19:50:47.714386Z"
    }
   },
   "cell_type": "code",
   "source": [
    "from Bio import SeqUtils\n",
    "import os\n",
    "import shutil\n",
    "from libsvm import svmutil\n",
    "import io\n",
    "import contextlib"
   ],
   "id": "8cc440723ecb390e",
   "outputs": [],
   "execution_count": 72
  },
  {
   "metadata": {
    "ExecuteTime": {
     "end_time": "2024-09-24T19:50:47.862223Z",
     "start_time": "2024-09-24T19:50:47.838050Z"
    }
   },
   "cell_type": "code",
   "source": [
    "def extractor(pro_dict):\n",
    "    \n",
    "    k_dict = {}\n",
    "    \n",
    "    for id,seq in pro_dict.items():\n",
    "    \n",
    "        k_count = 0\n",
    "        len_seq = len(seq)\n",
    "        arr_seqin = list(seq)\n",
    "        \n",
    "        # Count 'K' occurrences\n",
    "        for i in range(len_seq):\n",
    "            if arr_seqin[i] == 'K':\n",
    "                k_count += 1\n",
    "        \n",
    "        # Store indices of 'K'\n",
    "        index_list = [i for i in range(len_seq) if arr_seqin[i] == 'K']\n",
    "        \n",
    "        k_dict[id] = index_list\n",
    "    \n",
    "    return k_dict"
   ],
   "id": "19a6dcd328326c12",
   "outputs": [],
   "execution_count": 73
  },
  {
   "metadata": {
    "ExecuteTime": {
     "end_time": "2024-09-24T19:50:48.413531Z",
     "start_time": "2024-09-24T19:50:48.058753Z"
    }
   },
   "cell_type": "code",
   "source": "k_indicies = extractor(protein_dict)",
   "id": "34c74ebbc32a6cca",
   "outputs": [],
   "execution_count": 74
  },
  {
   "metadata": {
    "ExecuteTime": {
     "end_time": "2024-09-24T19:50:48.683269Z",
     "start_time": "2024-09-24T19:50:48.656548Z"
    }
   },
   "cell_type": "code",
   "source": [
    "def fragment_extractor(k_indicies, protein_dict):\n",
    "    \n",
    "    protein_frags = {}\n",
    "    \n",
    "    for id,idx_list in k_indicies.items():\n",
    "    \n",
    "        fragments = []\n",
    "        \n",
    "        for idx in idx_list:\n",
    "            if (idx - 7) < 0:\n",
    "                frag = protein_dict[id][0:idx + 8]\n",
    "            elif (idx + 8) > len(protein_dict[id]):\n",
    "                frag = protein_dict[id][idx - 7: len(protein_dict[id])]\n",
    "            else:\n",
    "                frag = protein_dict[id][idx - 7: idx + 8]\n",
    "            fragments.append(frag)\n",
    "        \n",
    "        protein_frags[id] = fragments\n",
    "    \n",
    "    return protein_frags"
   ],
   "id": "5d5604d8b296bd",
   "outputs": [],
   "execution_count": 75
  },
  {
   "metadata": {
    "ExecuteTime": {
     "end_time": "2024-09-24T19:50:49.243837Z",
     "start_time": "2024-09-24T19:50:49.086219Z"
    }
   },
   "cell_type": "code",
   "source": "protein_frags = fragment_extractor(k_indicies, protein_dict)",
   "id": "2648181428e5c890",
   "outputs": [],
   "execution_count": 76
  },
  {
   "metadata": {
    "ExecuteTime": {
     "end_time": "2024-09-24T19:50:49.431573Z",
     "start_time": "2024-09-24T19:50:49.405034Z"
    }
   },
   "cell_type": "code",
   "source": [
    "def create_dir(dir_path, mode='l'):\n",
    "    \"\"\"Create a directory if it does not exist.\"\"\"\n",
    "    try:\n",
    "        os.makedirs(dir_path, exist_ok=True)  # exist_ok=True avoids raising an error if the directory already exists\n",
    "        if mode == 'l':\n",
    "            print(f\"Directory '{dir_path}' is created or already exists.\")\n",
    "    except Exception as e:\n",
    "        print(f\"Error creating directory: {e}\")"
   ],
   "id": "2b12712e9b1ccf8d",
   "outputs": [],
   "execution_count": 77
  },
  {
   "metadata": {
    "ExecuteTime": {
     "end_time": "2024-09-24T19:50:49.709464Z",
     "start_time": "2024-09-24T19:50:49.696305Z"
    }
   },
   "cell_type": "code",
   "source": [
    "def delete_folder(folder_path):\n",
    "    try:\n",
    "        # Check if folder exists\n",
    "        if os.path.exists(folder_path):\n",
    "            # Delete the folder and all its contents\n",
    "            shutil.rmtree(folder_path)\n",
    "            print(f\"Folder '{folder_path}' and its contents have been deleted successfully.\")\n",
    "        else:\n",
    "            raise FileNotFoundError(f\"The folder '{folder_path}' does not exist.\")\n",
    "    except Exception as e:\n",
    "        # Raise an error if deletion fails\n",
    "        raise Exception(f\"Failed to delete folder '{folder_path}': {e}\")\n"
   ],
   "id": "f1aa6416ccd410de",
   "outputs": [],
   "execution_count": 78
  },
  {
   "metadata": {
    "ExecuteTime": {
     "end_time": "2024-09-24T19:50:50.256677Z",
     "start_time": "2024-09-24T19:50:50.230220Z"
    }
   },
   "cell_type": "code",
   "source": [
    "def features(protein_frags):\n",
    "    \n",
    "    delete_folder('./tmp')\n",
    "    create_dir('./tmp', 'q')\n",
    "    \n",
    "    smv_outputs = {}\n",
    "\n",
    "    for id,frags in protein_frags.items():\n",
    "        \n",
    "        temp_dir = os.path.join('./tmp', str(id))\n",
    "        create_dir(temp_dir, 'q')\n",
    "        temp_feature_file = os.path.join(temp_dir, str(id)+'.svm')\n",
    "        \n",
    "        for frag in frags:\n",
    "\n",
    "            # Amino acid counts\n",
    "            counts = {\n",
    "                'arg': 0, 'his': 0, 'lys': 0, 'asp': 0, 'glu': 0,\n",
    "                'asn': 0, 'cys': 0, 'gln': 0, 'gly': 0, 'ser': 0,\n",
    "                'thr': 0, 'tyr': 0, 'ala': 0, 'ile': 0, 'leu': 0,\n",
    "                'met': 0, 'phe': 0, 'prol': 0, 'trp': 0, 'val': 0\n",
    "            }\n",
    "            for ch in frag:\n",
    "                ch = ch.upper()\n",
    "                three_letter = SeqUtils.IUPACData.protein_letters_1to3[ch].lower()\n",
    "                if three_letter in counts:\n",
    "                    counts[three_letter] += 1\n",
    "            \n",
    "            # Total amino acids\n",
    "            total = sum(counts.values())\n",
    "            \n",
    "            # Percent calculations\n",
    "            percents = {key: (value * 100) / total for key, value in counts.items()}\n",
    "            \n",
    "            # Gravy calculation\n",
    "            gravy_weights = {\n",
    "                'ala': 1.80, 'arg': -4.50, 'asn': -3.50, 'asp': -3.50, 'cys': 2.50,\n",
    "                'gln': -3.50, 'glu': -3.50, 'gly': -0.40, 'his': -3.20, 'ile': 4.50,\n",
    "                'leu': 3.80, 'lys': -3.90, 'met': 1.90, 'phe': 2.80, 'prol': -1.60,\n",
    "                'ser': -0.80, 'thr': -0.70, 'trp': -0.90, 'tyr': -1.30, 'val': 4.20\n",
    "            }\n",
    "            gravy = sum(counts[aa] * gravy_weights[aa] for aa in counts) / total\n",
    "            \n",
    "            try:\n",
    "                with open(temp_feature_file, 'a') as outs:\n",
    "                    features = \"\\t\".join([f\"{i + 1}:{round(percents[aa] * 100) / 100.0}\" \n",
    "                                          for i, aa in enumerate(counts)])\n",
    "                    outs.write(f\"5\\t{features}\\t21:{round(gravy * 100) / 100.0}\\n\")\n",
    "                \n",
    "                smv_outputs[id] = temp_feature_file\n",
    "            \n",
    "            except IOError as e:\n",
    "                print(f\"Error: {e}\")\n",
    "    return smv_outputs  "
   ],
   "id": "daf905ed2608cea2",
   "outputs": [],
   "execution_count": 79
  },
  {
   "metadata": {
    "ExecuteTime": {
     "end_time": "2024-09-24T19:52:38.131999Z",
     "start_time": "2024-09-24T19:50:51.265728Z"
    }
   },
   "cell_type": "code",
   "source": "smv_outputs = features(protein_frags)",
   "id": "29c62b1df9f8e5f3",
   "outputs": [
    {
     "name": "stdout",
     "output_type": "stream",
     "text": [
      "Folder './tmp' and its contents have been deleted successfully.\n"
     ]
    }
   ],
   "execution_count": 80
  },
  {
   "metadata": {
    "ExecuteTime": {
     "end_time": "2024-09-24T19:55:52.116714Z",
     "start_time": "2024-09-24T19:55:52.099659Z"
    }
   },
   "cell_type": "code",
   "source": [
    "#import subprocess\n",
    "#command = ['./svm_model/svm-predict', './tmp/PAANNGHF_00001.svm', './svm_model/Model', 'svm_output.txt']\n",
    "\n",
    "# Run the command\n",
    "#try:\n",
    "#    subprocess.run(command, check=True)\n",
    "#    print(\"svm-predict ran successfully.\")\n",
    "#except subprocess.CalledProcessError as e:\n",
    "#    print(f\"Error occurred: {e}\")"
   ],
   "id": "a063403f416ba2da",
   "outputs": [],
   "execution_count": 85
  },
  {
   "metadata": {
    "ExecuteTime": {
     "end_time": "2024-09-24T19:54:21.011732Z",
     "start_time": "2024-09-24T19:54:21.006728Z"
    }
   },
   "cell_type": "code",
   "source": [
    "def load_svm_model(model_path):\n",
    "    model = svmutil.svm_load_model(model_path)\n",
    "    return model"
   ],
   "id": "dccd9bbd59c9ae8",
   "outputs": [],
   "execution_count": 83
  },
  {
   "metadata": {
    "ExecuteTime": {
     "end_time": "2024-09-24T19:54:25.057390Z",
     "start_time": "2024-09-24T19:54:25.040318Z"
    }
   },
   "cell_type": "code",
   "source": [
    "def run_svm_model(model, svm_paths):\n",
    "    \n",
    "    svm_results = {}\n",
    "    \n",
    "    for protein, svm_input in svm_paths.items():\n",
    "        y, X = svmutil.svm_read_problem(svm_input)\n",
    "        \n",
    "        # Use a StringIO to capture output and suppress it\n",
    "        with io.StringIO() as buf, contextlib.redirect_stdout(buf):\n",
    "            # Perform prediction without printing to stdout\n",
    "            p_labels, p_acc, p_vals = svmutil.svm_predict([], X, model)  # Empty list for true labels\n",
    "        \n",
    "        svm_results[protein] = (p_labels, p_acc, p_vals)\n",
    "        \n",
    "    return svm_results"
   ],
   "id": "d331f53354ae04fa",
   "outputs": [],
   "execution_count": 84
  },
  {
   "metadata": {
    "ExecuteTime": {
     "end_time": "2024-09-24T17:30:36.452197Z",
     "start_time": "2024-09-24T15:41:01.712944Z"
    }
   },
   "cell_type": "code",
   "source": [
    "model = load_svm_model('./svm_model/Model')\n",
    "svm_results = run_svm_model(model, smv_outputs)"
   ],
   "id": "4c5f78cb3cdf1d2",
   "outputs": [],
   "execution_count": 68
  },
  {
   "metadata": {},
   "cell_type": "code",
   "outputs": [],
   "execution_count": null,
   "source": "",
   "id": "2d737fe0d8fee139"
  }
 ],
 "metadata": {
  "kernelspec": {
   "display_name": "Python 3",
   "language": "python",
   "name": "python3"
  },
  "language_info": {
   "codemirror_mode": {
    "name": "ipython",
    "version": 2
   },
   "file_extension": ".py",
   "mimetype": "text/x-python",
   "name": "python",
   "nbconvert_exporter": "python",
   "pygments_lexer": "ipython2",
   "version": "2.7.6"
  }
 },
 "nbformat": 4,
 "nbformat_minor": 5
}
