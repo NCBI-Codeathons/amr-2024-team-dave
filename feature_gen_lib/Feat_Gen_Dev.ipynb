{
 "cells": [
  {
   "cell_type": "code",
   "id": "7fc8d005-8210-4ca7-9d18-78ebe6b5d495",
   "metadata": {
    "ExecuteTime": {
     "end_time": "2024-09-23T17:03:00.576636Z",
     "start_time": "2024-09-23T17:03:00.354792Z"
    }
   },
   "source": [
    "from Bio import SeqIO"
   ],
   "outputs": [],
   "execution_count": 1
  },
  {
   "cell_type": "markdown",
   "id": "e4689eed-55fd-4a91-85e6-d7190661ac6f",
   "metadata": {},
   "source": [
    "## General Functions"
   ]
  },
  {
   "cell_type": "code",
   "id": "2c13b68f-1fad-4024-9800-be6706d5be19",
   "metadata": {
    "ExecuteTime": {
     "end_time": "2024-09-23T17:03:00.583017Z",
     "start_time": "2024-09-23T17:03:00.579645Z"
    }
   },
   "source": [
    "test_genome = '../feature_gen_test/Test_Data/Reference/GCF_009734005.1_ASM973400v2_genomic.fna'\n",
    "estimated_genome_size = 2.9\n",
    "genome_skew = 0.1"
   ],
   "outputs": [],
   "execution_count": 2
  },
  {
   "cell_type": "code",
   "id": "965b276b-c9b5-4207-8c73-f74f71fe9dfc",
   "metadata": {
    "ExecuteTime": {
     "end_time": "2024-09-23T17:03:00.591933Z",
     "start_time": "2024-09-23T17:03:00.584028Z"
    }
   },
   "source": [
    "def read_fasta(fasta):\n",
    "    \"\"\"\n",
    "    Function that imports a fasta file into a dictonary\n",
    "    \"\"\"\n",
    "    with open(fasta, \"r\") as fasta_file:\n",
    "        fasta_dict = {}\n",
    "        for record in SeqIO.parse(fasta_file, \"fasta\"):\n",
    "            fasta_dict[record.id] = record.seq\n",
    "    return fasta_dict"
   ],
   "outputs": [],
   "execution_count": 3
  },
  {
   "cell_type": "code",
   "id": "2f94993c-cb54-4208-a543-44f24cc7c830",
   "metadata": {
    "ExecuteTime": {
     "end_time": "2024-09-23T17:03:00.638053Z",
     "start_time": "2024-09-23T17:03:00.592942Z"
    }
   },
   "source": [
    "test_fasta = read_fasta(test_genome)"
   ],
   "outputs": [],
   "execution_count": 4
  },
  {
   "cell_type": "code",
   "id": "4e1f786a-a7e4-4352-83b0-4f2ed321d4df",
   "metadata": {
    "ExecuteTime": {
     "end_time": "2024-09-23T17:03:00.871322Z",
     "start_time": "2024-09-23T17:03:00.863276Z"
    }
   },
   "source": [
    "test_fasta"
   ],
   "outputs": [
    {
     "data": {
      "text/plain": [
       "{'NZ_CP038996.1': Seq('ATGGTATCCCTCGATGCTTTATGGAATGAATTAAAAGCAACATACCAAAAGGAT...TAT'),\n",
       " 'NZ_CP038997.1': Seq('TATCACTATTTAACAATTCTTAACGTTTTCTTAATGTTTATAATCACGTATATA...ACA')}"
      ]
     },
     "execution_count": 5,
     "metadata": {},
     "output_type": "execute_result"
    }
   ],
   "execution_count": 5
  },
  {
   "cell_type": "code",
   "id": "e8faaf5f-edb8-4052-aa9a-3da6f5bf6572",
   "metadata": {
    "ExecuteTime": {
     "end_time": "2024-09-23T17:03:01.161399Z",
     "start_time": "2024-09-23T17:03:01.156809Z"
    }
   },
   "source": [
    "def get_longest_record(fasta_dict):\n",
    "    \"\"\"\n",
    "    Function that get the longest sequence from a dict of sequences\n",
    "    \"\"\"\n",
    "    longest_seq_id = max(fasta_dict, key=lambda k: len(fasta_dict[k]))\n",
    "    longest_seq = fasta_dict[longest_seq_id]\n",
    "    longest_record = (longest_seq_id, longest_seq)\n",
    "    return longest_record"
   ],
   "outputs": [],
   "execution_count": 6
  },
  {
   "cell_type": "code",
   "id": "bbe93e12-1883-4149-a3f0-4d6a92853ee6",
   "metadata": {
    "ExecuteTime": {
     "end_time": "2024-09-23T17:03:01.530638Z",
     "start_time": "2024-09-23T17:03:01.525605Z"
    }
   },
   "source": [
    "longest_seq = get_longest_record(test_fasta)"
   ],
   "outputs": [],
   "execution_count": 7
  },
  {
   "cell_type": "code",
   "id": "cd9e86dd-4ef4-4277-a60c-e4ae3a9e77a2",
   "metadata": {
    "ExecuteTime": {
     "end_time": "2024-09-23T17:16:16.647060Z",
     "start_time": "2024-09-23T17:16:16.642157Z"
    }
   },
   "source": [
    "def check_genome_size(sequence, genome_size, skew):\n",
    "    \"\"\"\n",
    "    This function checks the size of the provided sequences and checks if it is within a ranges provided by skew.\n",
    "    Genome_size in a float in MB.\n",
    "    skew is a float representing the precentage skew\n",
    "    \"\"\"\n",
    "    bp_genome_size = genome_size * 1000000\n",
    "    minsize = bp_genome_size - (bp_genome_size * skew)\n",
    "    maxsize = bp_genome_size + (bp_genome_size * skew)\n",
    "    #print('Checking that genome size is at least ' + str(minsize) + ' and the it is less than ' + str(maxsize))\n",
    "    \n",
    "    if ((len(sequence[1])) >= minsize) & ((len(sequence[1])) <= maxsize):\n",
    "        return True\n",
    "    else:\n",
    "        return False"
   ],
   "outputs": [],
   "execution_count": 14
  },
  {
   "cell_type": "code",
   "id": "e3f9b9a0-b795-4bf5-b25c-af65ad166567",
   "metadata": {
    "ExecuteTime": {
     "end_time": "2024-09-23T17:16:16.772635Z",
     "start_time": "2024-09-23T17:16:16.769055Z"
    }
   },
   "source": [
    "print(check_genome_size(longest_seq, estimated_genome_size, genome_skew))"
   ],
   "outputs": [
    {
     "name": "stdout",
     "output_type": "stream",
     "text": [
      "True\n"
     ]
    }
   ],
   "execution_count": 15
  },
  {
   "cell_type": "code",
   "id": "9676a48a-3b49-495f-a0d7-f964dc5998c4",
   "metadata": {
    "ExecuteTime": {
     "end_time": "2024-09-23T17:16:16.901409Z",
     "start_time": "2024-09-23T17:16:16.897067Z"
    }
   },
   "source": [
    "def genome_import_process(fasta, genome_size, skew):\n",
    "    \"\"\"\n",
    "    Function that imports a fasta file into a dictonary and checks its size\n",
    "    :param fasta: fasta file\n",
    "    :param genome_size: estimated genome size for species\n",
    "    :param skew: the percent skew of the genome size allowed\n",
    "    :return: tuple of (fasta_file_name, sequence id, sequence)\n",
    "    \"\"\"\n",
    "    fasta_dict = read_fasta(fasta)\n",
    "    \n",
    "    longest_seq = get_longest_record(fasta_dict)\n",
    "    \n",
    "    if check_genome_size(longest_seq, estimated_genome_size, genome_skew):\n",
    "        print('Input sequence ' + fasta + ' passed checks')\n",
    "        return fasta, longest_seq[0], longest_seq[1]\n",
    "    else:\n",
    "        print('Input sequence ' + fasta + ' did not pass checks')"
   ],
   "outputs": [],
   "execution_count": 16
  },
  {
   "metadata": {
    "ExecuteTime": {
     "end_time": "2024-09-23T17:16:17.046490Z",
     "start_time": "2024-09-23T17:16:17.024717Z"
    }
   },
   "cell_type": "code",
   "source": "genome_import_process(test_genome, estimated_genome_size, genome_skew)",
   "id": "442e6a770ac65c4e",
   "outputs": [
    {
     "name": "stdout",
     "output_type": "stream",
     "text": [
      "Input sequence ../feature_gen_test/Test_Data/Reference/GCF_009734005.1_ASM973400v2_genomic.fna passed checks\n"
     ]
    },
    {
     "data": {
      "text/plain": [
       "('../feature_gen_test/Test_Data/Reference/GCF_009734005.1_ASM973400v2_genomic.fna',\n",
       " 'NZ_CP038996.1',\n",
       " Seq('ATGGTATCCCTCGATGCTTTATGGAATGAATTAAAAGCAACATACCAAAAGGAT...TAT'))"
      ]
     },
     "execution_count": 17,
     "metadata": {},
     "output_type": "execute_result"
    }
   ],
   "execution_count": 17
  }
 ],
 "metadata": {
  "kernelspec": {
   "display_name": "Python 3 (ipykernel)",
   "language": "python",
   "name": "python3"
  },
  "language_info": {
   "codemirror_mode": {
    "name": "ipython",
    "version": 3
   },
   "file_extension": ".py",
   "mimetype": "text/x-python",
   "name": "python",
   "nbconvert_exporter": "python",
   "pygments_lexer": "ipython3",
   "version": "3.11.5"
  }
 },
 "nbformat": 4,
 "nbformat_minor": 5
}
