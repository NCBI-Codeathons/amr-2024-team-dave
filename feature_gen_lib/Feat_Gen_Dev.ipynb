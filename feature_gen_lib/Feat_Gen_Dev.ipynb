{
 "cells": [
  {
   "cell_type": "markdown",
   "id": "e4689eed-55fd-4a91-85e6-d7190661ac6f",
   "metadata": {},
   "source": "## Sequence Import Functions"
  },
  {
   "metadata": {
    "ExecuteTime": {
     "end_time": "2024-09-23T19:41:29.923933Z",
     "start_time": "2024-09-23T19:41:29.919748Z"
    }
   },
   "cell_type": "code",
   "source": "from Bio import SeqIO",
   "id": "7fc8d005-8210-4ca7-9d18-78ebe6b5d495",
   "outputs": [],
   "execution_count": 132
  },
  {
   "cell_type": "code",
   "id": "2c13b68f-1fad-4024-9800-be6706d5be19",
   "metadata": {
    "ExecuteTime": {
     "end_time": "2024-09-23T19:41:30.052030Z",
     "start_time": "2024-09-23T19:41:30.049066Z"
    }
   },
   "source": [
    "test_genome = '../feature_gen_test/Test_Data/Reference/GCF_009734005.1_ASM973400v2_genomic.fna'\n",
    "estimated_genome_size = 2.9\n",
    "genome_skew = 0.1"
   ],
   "outputs": [],
   "execution_count": 133
  },
  {
   "cell_type": "code",
   "id": "965b276b-c9b5-4207-8c73-f74f71fe9dfc",
   "metadata": {
    "ExecuteTime": {
     "end_time": "2024-09-23T19:41:30.202222Z",
     "start_time": "2024-09-23T19:41:30.198894Z"
    }
   },
   "source": [
    "def read_fasta(fasta):\n",
    "    \"\"\"\n",
    "    Function that imports a fasta file into a dictonary\n",
    "    \"\"\"\n",
    "    with open(fasta, \"r\") as fasta_file:\n",
    "        fasta_dict = {}\n",
    "        for record in SeqIO.parse(fasta_file, \"fasta\"):\n",
    "            fasta_dict[record.id] = record.seq\n",
    "    return fasta_dict"
   ],
   "outputs": [],
   "execution_count": 134
  },
  {
   "cell_type": "code",
   "id": "2f94993c-cb54-4208-a543-44f24cc7c830",
   "metadata": {
    "ExecuteTime": {
     "end_time": "2024-09-23T19:41:30.354947Z",
     "start_time": "2024-09-23T19:41:30.338814Z"
    }
   },
   "source": [
    "test_fasta = read_fasta(test_genome)"
   ],
   "outputs": [],
   "execution_count": 135
  },
  {
   "cell_type": "code",
   "id": "4e1f786a-a7e4-4352-83b0-4f2ed321d4df",
   "metadata": {
    "ExecuteTime": {
     "end_time": "2024-09-23T19:41:30.484883Z",
     "start_time": "2024-09-23T19:41:30.480376Z"
    }
   },
   "source": [
    "test_fasta"
   ],
   "outputs": [
    {
     "data": {
      "text/plain": [
       "{'NZ_CP038996.1': Seq('ATGGTATCCCTCGATGCTTTATGGAATGAATTAAAAGCAACATACCAAAAGGAT...TAT'),\n",
       " 'NZ_CP038997.1': Seq('TATCACTATTTAACAATTCTTAACGTTTTCTTAATGTTTATAATCACGTATATA...ACA')}"
      ]
     },
     "execution_count": 136,
     "metadata": {},
     "output_type": "execute_result"
    }
   ],
   "execution_count": 136
  },
  {
   "cell_type": "code",
   "id": "e8faaf5f-edb8-4052-aa9a-3da6f5bf6572",
   "metadata": {
    "ExecuteTime": {
     "end_time": "2024-09-23T19:41:30.630054Z",
     "start_time": "2024-09-23T19:41:30.626618Z"
    }
   },
   "source": [
    "#def get_longest_record(fasta_dict):\n",
    "#    \"\"\"\n",
    "#    Function that get the longest sequence from a dict of sequences\n",
    "#    \"\"\"\n",
    "#    longest_seq_id = max(fasta_dict, key=lambda k: len(fasta_dict[k]))\n",
    "#    longest_seq = fasta_dict[longest_seq_id]\n",
    "#    longest_record = (longest_seq_id, longest_seq)\n",
    "#    return longest_record"
   ],
   "outputs": [],
   "execution_count": 137
  },
  {
   "cell_type": "code",
   "id": "bbe93e12-1883-4149-a3f0-4d6a92853ee6",
   "metadata": {
    "ExecuteTime": {
     "end_time": "2024-09-23T19:41:30.788884Z",
     "start_time": "2024-09-23T19:41:30.786601Z"
    }
   },
   "source": "#longest_seq = get_longest_record(test_fasta)",
   "outputs": [],
   "execution_count": 138
  },
  {
   "metadata": {
    "ExecuteTime": {
     "end_time": "2024-09-23T19:41:31.106259Z",
     "start_time": "2024-09-23T19:41:31.103275Z"
    }
   },
   "cell_type": "code",
   "source": [
    "def concat_record(fasta_dict):\n",
    "    return ''.join(str(value) for value in fasta_dict.values())"
   ],
   "id": "bfb400ee75d8ed77",
   "outputs": [],
   "execution_count": 139
  },
  {
   "cell_type": "code",
   "id": "cd9e86dd-4ef4-4277-a60c-e4ae3a9e77a2",
   "metadata": {
    "ExecuteTime": {
     "end_time": "2024-09-23T19:41:31.383279Z",
     "start_time": "2024-09-23T19:41:31.378601Z"
    }
   },
   "source": [
    "def check_genome_size(fasta_dict, genome_size, skew):\n",
    "    \"\"\"\n",
    "    This function checks the size of the provided sequences and checks if it is within a ranges provided by skew.\n",
    "    Genome_size in a float in MB.\n",
    "    skew is a float representing the precentage skew\n",
    "    \"\"\"\n",
    "    concat_rec = concat_record(fasta_dict)\n",
    "    \n",
    "    bp_genome_size = genome_size * 1000000\n",
    "    minsize = bp_genome_size - (bp_genome_size * skew)\n",
    "    maxsize = bp_genome_size + (bp_genome_size * skew)\n",
    "    #print('Checking that genome size is at least ' + str(minsize) + ' and the it is less than ' + str(maxsize))\n",
    "    \n",
    "    if ((len(concat_rec)) >= minsize) & ((len(concat_rec)) <= maxsize):\n",
    "        return True\n",
    "    else:\n",
    "        return False"
   ],
   "outputs": [],
   "execution_count": 140
  },
  {
   "cell_type": "code",
   "id": "e3f9b9a0-b795-4bf5-b25c-af65ad166567",
   "metadata": {
    "ExecuteTime": {
     "end_time": "2024-09-23T19:41:31.685998Z",
     "start_time": "2024-09-23T19:41:31.680922Z"
    }
   },
   "source": "print(check_genome_size(test_fasta, estimated_genome_size, genome_skew))",
   "outputs": [
    {
     "name": "stdout",
     "output_type": "stream",
     "text": [
      "True\n"
     ]
    }
   ],
   "execution_count": 141
  },
  {
   "cell_type": "code",
   "id": "9676a48a-3b49-495f-a0d7-f964dc5998c4",
   "metadata": {
    "ExecuteTime": {
     "end_time": "2024-09-23T19:41:32.282051Z",
     "start_time": "2024-09-23T19:41:32.278203Z"
    }
   },
   "source": [
    "def genome_import_process(fasta, genome_size, skew):\n",
    "    \"\"\"\n",
    "    Function that imports a fasta file into a dictonary and checks its size\n",
    "    :param fasta: fasta file\n",
    "    :param genome_size: estimated genome size for species\n",
    "    :param skew: the percent skew of the genome size allowed\n",
    "    :return: tuple of (fasta_file_name, sequence id, sequence)\n",
    "    \"\"\"\n",
    "    \n",
    "    fasta_dict = read_fasta(fasta)\n",
    "    \n",
    "    \n",
    "    if check_genome_size(fasta_dict, genome_size, skew):\n",
    "        print('Input sequence ' + fasta + ' passed checks')\n",
    "        return fasta, fasta_dict\n",
    "    else:\n",
    "        print('Input sequence ' + fasta + ' did not pass checks')"
   ],
   "outputs": [],
   "execution_count": 142
  },
  {
   "metadata": {
    "ExecuteTime": {
     "end_time": "2024-09-23T19:41:32.874893Z",
     "start_time": "2024-09-23T19:41:32.856020Z"
    }
   },
   "cell_type": "code",
   "source": "passed_fasta = genome_import_process(test_genome, estimated_genome_size, genome_skew)",
   "id": "442e6a770ac65c4e",
   "outputs": [
    {
     "name": "stdout",
     "output_type": "stream",
     "text": [
      "Input sequence ../feature_gen_test/Test_Data/Reference/GCF_009734005.1_ASM973400v2_genomic.fna passed checks\n"
     ]
    }
   ],
   "execution_count": 143
  },
  {
   "metadata": {},
   "cell_type": "markdown",
   "source": "## Nucleotide Frequencies",
   "id": "6a423938a0178d81"
  },
  {
   "metadata": {
    "ExecuteTime": {
     "end_time": "2024-09-23T19:52:35.470683Z",
     "start_time": "2024-09-23T19:52:35.466436Z"
    }
   },
   "cell_type": "code",
   "source": [
    "from itertools import product\n",
    "import pandas as pd\n",
    "import os"
   ],
   "id": "d4ef385b85691949",
   "outputs": [],
   "execution_count": 163
  },
  {
   "metadata": {
    "ExecuteTime": {
     "end_time": "2024-09-23T19:58:56.025716Z",
     "start_time": "2024-09-23T19:58:56.021897Z"
    }
   },
   "cell_type": "code",
   "source": "output_folder = './Output/'",
   "id": "47d76202192243fa",
   "outputs": [],
   "execution_count": 177
  },
  {
   "metadata": {
    "ExecuteTime": {
     "end_time": "2024-09-23T19:58:56.138978Z",
     "start_time": "2024-09-23T19:58:56.135551Z"
    }
   },
   "cell_type": "code",
   "source": [
    "def space_seperated_record(fasta_dict):\n",
    "    return ' '.join(str(value) for value in fasta_dict.values())"
   ],
   "id": "205ded660426b2cf",
   "outputs": [],
   "execution_count": 178
  },
  {
   "metadata": {
    "ExecuteTime": {
     "end_time": "2024-09-23T19:58:56.267914Z",
     "start_time": "2024-09-23T19:58:56.263645Z"
    }
   },
   "cell_type": "code",
   "source": [
    "def count_nucleotides(input_seq):\n",
    "    \n",
    "    sequence = input_seq.upper()\n",
    "    \n",
    "    nucleotides = ['A', 'C', 'G', 'T']\n",
    "    \n",
    "    nucleotide_counts = {}\n",
    "    \n",
    "    for nucleotide in nucleotides:\n",
    "        nucleotide_counts[nucleotide] = sequence.count(nucleotide)\n",
    "        \n",
    "    return nucleotide_counts"
   ],
   "id": "2cd62550792ef4c4",
   "outputs": [],
   "execution_count": 179
  },
  {
   "metadata": {
    "ExecuteTime": {
     "end_time": "2024-09-23T19:58:56.395945Z",
     "start_time": "2024-09-23T19:58:56.391859Z"
    }
   },
   "cell_type": "code",
   "source": [
    "def generate_combinations(nucleotides, X):\n",
    "    return [''.join(seq) for seq in product(nucleotides, repeat=X)]"
   ],
   "id": "33821ee49a295bcb",
   "outputs": [],
   "execution_count": 180
  },
  {
   "metadata": {
    "ExecuteTime": {
     "end_time": "2024-09-23T19:58:56.511758Z",
     "start_time": "2024-09-23T19:58:56.505791Z"
    }
   },
   "cell_type": "code",
   "source": [
    "def count_dinucleotides(input_seq):\n",
    "    di_nuc = generate_combinations(['A', 'C', 'G', 'T'], 2)\n",
    "    \n",
    "    sequence = input_seq.upper()\n",
    "    \n",
    "    dinucleotide_counts = {}\n",
    "    \n",
    "    for pair in di_nuc:\n",
    "        dinucleotide_counts[pair] = sequence.count(pair)\n",
    "        \n",
    "    return dinucleotide_counts"
   ],
   "id": "aacebe113de5d19d",
   "outputs": [],
   "execution_count": 181
  },
  {
   "metadata": {
    "ExecuteTime": {
     "end_time": "2024-09-23T19:58:56.638238Z",
     "start_time": "2024-09-23T19:58:56.632386Z"
    }
   },
   "cell_type": "code",
   "source": [
    "def count_trinucleotides(input_seq):\n",
    "    tri_nuc = generate_combinations(['A', 'C', 'G', 'T'], 3)\n",
    "    \n",
    "    sequence = input_seq.upper()\n",
    "    \n",
    "    trinucleotide_counts = {}\n",
    "    \n",
    "    for pair in tri_nuc:\n",
    "        trinucleotide_counts[pair] = sequence.count(pair)\n",
    "    \n",
    "    return trinucleotide_counts"
   ],
   "id": "6f7e4e22c300364d",
   "outputs": [],
   "execution_count": 182
  },
  {
   "metadata": {
    "ExecuteTime": {
     "end_time": "2024-09-23T19:58:56.763309Z",
     "start_time": "2024-09-23T19:58:56.758561Z"
    }
   },
   "cell_type": "code",
   "source": [
    "def merge_dicts(dict1, dict2, dict3, dict4):\n",
    "    merged_dict = {**dict1, **dict2, **dict3, **dict4}\n",
    "    return merged_dict"
   ],
   "id": "35551067400260c0",
   "outputs": [],
   "execution_count": 183
  },
  {
   "metadata": {
    "ExecuteTime": {
     "end_time": "2024-09-23T20:07:26.337256Z",
     "start_time": "2024-09-23T20:07:26.333291Z"
    }
   },
   "cell_type": "code",
   "source": [
    "def create_dir(dir_path):\n",
    "    \"\"\"Create a directory if it does not exist.\"\"\"\n",
    "    try:\n",
    "        os.makedirs(dir_path, exist_ok=True)  # exist_ok=True avoids raising an error if the directory already exists\n",
    "        print(f\"Directory '{dir_path}' is created or already exists.\")\n",
    "    except Exception as e:\n",
    "        print(f\"Error creating directory: {e}\")"
   ],
   "id": "d5b51c1ec84feba6",
   "outputs": [],
   "execution_count": 188
  },
  {
   "metadata": {
    "ExecuteTime": {
     "end_time": "2024-09-23T19:58:57.057467Z",
     "start_time": "2024-09-23T19:58:57.047803Z"
    }
   },
   "cell_type": "code",
   "source": [
    "def create_db(import_sequnce, output_folder):\n",
    "    \n",
    "    input_file = import_sequnce[0]\n",
    "    seq_dict = import_sequnce[1]\n",
    "    space_seq = space_seperated_record(seq_dict)\n",
    "    \n",
    "    input_data = {}\n",
    "    input_data['file']  = import_sequnce[0]\n",
    "    \n",
    "    nuc_counts = count_nucleotides(space_seq)\n",
    "    dinuc_counts = count_dinucleotides(space_seq)\n",
    "    trinuc_counts = count_trinucleotides(space_seq)\n",
    "    \n",
    "    data =  merge_dicts(input_data, nuc_counts, dinuc_counts, trinuc_counts)\n",
    "    \n",
    "    nuc_freq_df = pd.DataFrame(data, index=[0])\n",
    "    \n",
    "    file_prefix = os.path.splitext(os.path.basename(input_file))[0]\n",
    "    \n",
    "    filename = file_prefix + '.nuc_freq.csv'\n",
    "    \n",
    "    output_path = os.path.join(output_folder, filename)\n",
    "    \n",
    "    create_dir(output_folder)\n",
    "    \n",
    "    nuc_freq_df.to_csv(output_path, index=False)\n",
    "    \n",
    "    return nuc_freq_df"
   ],
   "id": "da11e18833455ca6",
   "outputs": [],
   "execution_count": 185
  },
  {
   "metadata": {
    "ExecuteTime": {
     "end_time": "2024-09-23T19:58:57.947034Z",
     "start_time": "2024-09-23T19:58:57.194861Z"
    }
   },
   "cell_type": "code",
   "source": "df = create_db(passed_fasta,output_folder)",
   "id": "527d5b26594268c3",
   "outputs": [
    {
     "name": "stdout",
     "output_type": "stream",
     "text": [
      "Directory './Output/' is created or already exists.\n"
     ]
    }
   ],
   "execution_count": 186
  },
  {
   "metadata": {},
   "cell_type": "code",
   "outputs": [],
   "execution_count": null,
   "source": "",
   "id": "5f8d7abd3a2d65b5"
  }
 ],
 "metadata": {
  "kernelspec": {
   "display_name": "Python 3 (ipykernel)",
   "language": "python",
   "name": "python3"
  },
  "language_info": {
   "codemirror_mode": {
    "name": "ipython",
    "version": 3
   },
   "file_extension": ".py",
   "mimetype": "text/x-python",
   "name": "python",
   "nbconvert_exporter": "python",
   "pygments_lexer": "ipython3",
   "version": "3.11.5"
  }
 },
 "nbformat": 4,
 "nbformat_minor": 5
}
