{
 "cells": [
  {
   "cell_type": "markdown",
   "id": "e4689eed-55fd-4a91-85e6-d7190661ac6f",
   "metadata": {},
   "source": "## Sequence Import Functions"
  },
  {
   "metadata": {
    "ExecuteTime": {
     "end_time": "2024-09-24T22:19:24.803927Z",
     "start_time": "2024-09-24T22:19:24.613908Z"
    }
   },
   "cell_type": "code",
   "source": "from Bio import SeqIO",
   "id": "7fc8d005-8210-4ca7-9d18-78ebe6b5d495",
   "outputs": [],
   "execution_count": 1
  },
  {
   "cell_type": "code",
   "id": "2c13b68f-1fad-4024-9800-be6706d5be19",
   "metadata": {
    "ExecuteTime": {
     "end_time": "2024-09-24T22:19:24.819914Z",
     "start_time": "2024-09-24T22:19:24.805906Z"
    }
   },
   "source": [
    "test_genome = './test_data/GCA_029694365.1_PDT001647321.1_genomic.fna'\n",
    "#estimated_genome_size = 2.9\n",
    "#genome_skew = 0.1"
   ],
   "outputs": [],
   "execution_count": 2
  },
  {
   "cell_type": "code",
   "id": "965b276b-c9b5-4207-8c73-f74f71fe9dfc",
   "metadata": {
    "ExecuteTime": {
     "end_time": "2024-09-25T01:38:39.163098Z",
     "start_time": "2024-09-25T01:38:39.147456Z"
    }
   },
   "source": [
    "def read_fasta(fasta):\n",
    "    \"\"\"\n",
    "    Function that imports a fasta file into a dictonary\n",
    "    \"\"\"\n",
    "    with open(fasta, \"r\") as fasta_file:\n",
    "        fasta_dict = {}\n",
    "        for record in SeqIO.parse(fasta_file, \"fasta\"):\n",
    "            fasta_dict[record.description] = record.seq\n",
    "    return fasta_dict"
   ],
   "outputs": [],
   "execution_count": 14
  },
  {
   "cell_type": "code",
   "id": "2f94993c-cb54-4208-a543-44f24cc7c830",
   "metadata": {
    "ExecuteTime": {
     "end_time": "2024-09-25T01:38:40.802852Z",
     "start_time": "2024-09-25T01:38:40.708225Z"
    }
   },
   "source": [
    "test_fasta = read_fasta(test_genome)"
   ],
   "outputs": [],
   "execution_count": 15
  },
  {
   "metadata": {
    "ExecuteTime": {
     "end_time": "2024-09-25T01:42:16.039216Z",
     "start_time": "2024-09-25T01:42:16.024495Z"
    }
   },
   "cell_type": "code",
   "source": [
    "def remove_guided_contigs(fasta_dict):\n",
    "    filter_contigs = {}\n",
    "    for seq in fasta_dict.keys():\n",
    "        if '.guided' not in seq:\n",
    "            filter_contigs[seq.split(' ')[0]] = fasta_dict[seq]\n",
    "    return filter_contigs"
   ],
   "id": "b5f5a25a66d69c9e",
   "outputs": [],
   "execution_count": 19
  },
  {
   "metadata": {
    "ExecuteTime": {
     "end_time": "2024-09-25T01:43:28.472692Z",
     "start_time": "2024-09-25T01:43:28.457074Z"
    }
   },
   "cell_type": "code",
   "source": "filtered_contigs = remove_guided_contigs(test_fasta)",
   "id": "4ea59fcc3e72d25b",
   "outputs": [],
   "execution_count": 22
  },
  {
   "metadata": {
    "ExecuteTime": {
     "end_time": "2024-09-23T19:41:31.106259Z",
     "start_time": "2024-09-23T19:41:31.103275Z"
    }
   },
   "cell_type": "code",
   "source": [
    "def concat_record(fasta_dict):\n",
    "    return ''.join(str(value) for value in fasta_dict.values())"
   ],
   "id": "bfb400ee75d8ed77",
   "outputs": [],
   "execution_count": 139
  },
  {
   "cell_type": "code",
   "id": "9676a48a-3b49-495f-a0d7-f964dc5998c4",
   "metadata": {
    "ExecuteTime": {
     "end_time": "2024-09-25T01:44:58.173219Z",
     "start_time": "2024-09-25T01:44:58.157606Z"
    }
   },
   "source": [
    "def genome_import_process(fasta):\n",
    "    \"\"\"\n",
    "    Function that imports a fasta file into a dictonary and checks its size\n",
    "    :param fasta: fasta file\n",
    "    :param genome_size: estimated genome size for species\n",
    "    :param skew: the percent skew of the genome size allowed\n",
    "    :return: tuple of (fasta_file_name, sequence id, sequence)\n",
    "    \"\"\"\n",
    "    \n",
    "    fasta_dict = read_fasta(fasta)\n",
    "    \n",
    "    filtered_contigs = remove_guided_contigs(fasta_dict)\n",
    "    \n",
    "    return fasta, filtered_contigs\n",
    "    "
   ],
   "outputs": [],
   "execution_count": 24
  },
  {
   "metadata": {
    "ExecuteTime": {
     "end_time": "2024-09-25T01:44:58.508564Z",
     "start_time": "2024-09-25T01:44:58.414175Z"
    }
   },
   "cell_type": "code",
   "source": "passed_fasta = genome_import_process(test_genome)",
   "id": "442e6a770ac65c4e",
   "outputs": [],
   "execution_count": 25
  },
  {
   "metadata": {},
   "cell_type": "markdown",
   "source": "## Nucleotide Frequencies",
   "id": "6a423938a0178d81"
  },
  {
   "metadata": {
    "ExecuteTime": {
     "end_time": "2024-09-25T01:45:51.853785Z",
     "start_time": "2024-09-25T01:45:50.693876Z"
    }
   },
   "cell_type": "code",
   "source": [
    "from itertools import product\n",
    "import pandas as pd\n",
    "import os"
   ],
   "id": "d4ef385b85691949",
   "outputs": [],
   "execution_count": 26
  },
  {
   "metadata": {
    "ExecuteTime": {
     "end_time": "2024-09-25T01:45:51.869540Z",
     "start_time": "2024-09-25T01:45:51.858237Z"
    }
   },
   "cell_type": "code",
   "source": "output_folder = './Output/'",
   "id": "47d76202192243fa",
   "outputs": [],
   "execution_count": 27
  },
  {
   "metadata": {
    "ExecuteTime": {
     "end_time": "2024-09-25T01:45:52.500920Z",
     "start_time": "2024-09-25T01:45:52.485838Z"
    }
   },
   "cell_type": "code",
   "source": [
    "def space_seperated_record(fasta_dict):\n",
    "    return ' '.join(str(value) for value in fasta_dict.values())"
   ],
   "id": "205ded660426b2cf",
   "outputs": [],
   "execution_count": 28
  },
  {
   "metadata": {
    "ExecuteTime": {
     "end_time": "2024-09-25T01:45:53.312212Z",
     "start_time": "2024-09-25T01:45:53.296567Z"
    }
   },
   "cell_type": "code",
   "source": [
    "def count_nucleotides(input_seq):\n",
    "    \n",
    "    sequence = input_seq.upper()\n",
    "    \n",
    "    nucleotides = ['A', 'C', 'G', 'T']\n",
    "    \n",
    "    nucleotide_counts = {}\n",
    "    \n",
    "    for nucleotide in nucleotides:\n",
    "        nucleotide_counts[nucleotide] = sequence.count(nucleotide)\n",
    "        \n",
    "    return nucleotide_counts"
   ],
   "id": "2cd62550792ef4c4",
   "outputs": [],
   "execution_count": 29
  },
  {
   "metadata": {
    "ExecuteTime": {
     "end_time": "2024-09-25T01:45:53.871432Z",
     "start_time": "2024-09-25T01:45:53.855531Z"
    }
   },
   "cell_type": "code",
   "source": [
    "def generate_combinations(nucleotides, X):\n",
    "    return [''.join(seq) for seq in product(nucleotides, repeat=X)]"
   ],
   "id": "33821ee49a295bcb",
   "outputs": [],
   "execution_count": 30
  },
  {
   "metadata": {
    "ExecuteTime": {
     "end_time": "2024-09-25T01:45:54.277311Z",
     "start_time": "2024-09-25T01:45:54.261448Z"
    }
   },
   "cell_type": "code",
   "source": [
    "def count_dinucleotides(input_seq):\n",
    "    di_nuc = generate_combinations(['A', 'C', 'G', 'T'], 2)\n",
    "    \n",
    "    sequence = input_seq.upper()\n",
    "    \n",
    "    dinucleotide_counts = {}\n",
    "    \n",
    "    for pair in di_nuc:\n",
    "        dinucleotide_counts[pair] = sequence.count(pair)\n",
    "        \n",
    "    return dinucleotide_counts"
   ],
   "id": "aacebe113de5d19d",
   "outputs": [],
   "execution_count": 31
  },
  {
   "metadata": {
    "ExecuteTime": {
     "end_time": "2024-09-25T01:45:55.216107Z",
     "start_time": "2024-09-25T01:45:55.200471Z"
    }
   },
   "cell_type": "code",
   "source": [
    "def count_trinucleotides(input_seq):\n",
    "    tri_nuc = generate_combinations(['A', 'C', 'G', 'T'], 3)\n",
    "    \n",
    "    sequence = input_seq.upper()\n",
    "    \n",
    "    trinucleotide_counts = {}\n",
    "    \n",
    "    for pair in tri_nuc:\n",
    "        trinucleotide_counts[pair] = sequence.count(pair)\n",
    "    \n",
    "    return trinucleotide_counts"
   ],
   "id": "6f7e4e22c300364d",
   "outputs": [],
   "execution_count": 32
  },
  {
   "metadata": {
    "ExecuteTime": {
     "end_time": "2024-09-25T01:45:56.114927Z",
     "start_time": "2024-09-25T01:45:56.099300Z"
    }
   },
   "cell_type": "code",
   "source": [
    "def merge_dicts(dict1, dict2, dict3, dict4):\n",
    "    merged_dict = {**dict1, **dict2, **dict3, **dict4}\n",
    "    return merged_dict"
   ],
   "id": "35551067400260c0",
   "outputs": [],
   "execution_count": 33
  },
  {
   "metadata": {
    "ExecuteTime": {
     "end_time": "2024-09-25T01:45:56.768097Z",
     "start_time": "2024-09-25T01:45:56.752096Z"
    }
   },
   "cell_type": "code",
   "source": [
    "def create_dir(dir_path):\n",
    "    \"\"\"Create a directory if it does not exist.\"\"\"\n",
    "    try:\n",
    "        os.makedirs(dir_path, exist_ok=True)  # exist_ok=True avoids raising an error if the directory already exists\n",
    "        print(f\"Directory '{dir_path}' is created or already exists.\")\n",
    "    except Exception as e:\n",
    "        print(f\"Error creating directory: {e}\")"
   ],
   "id": "d5b51c1ec84feba6",
   "outputs": [],
   "execution_count": 34
  },
  {
   "metadata": {
    "ExecuteTime": {
     "end_time": "2024-09-25T01:45:57.945293Z",
     "start_time": "2024-09-25T01:45:57.914049Z"
    }
   },
   "cell_type": "code",
   "source": [
    "def create_db(import_sequnce, output_folder):\n",
    "    \n",
    "    input_file = import_sequnce[0]\n",
    "    seq_dict = import_sequnce[1]\n",
    "    space_seq = space_seperated_record(seq_dict)\n",
    "    \n",
    "    input_data = {}\n",
    "    input_data['file']  = import_sequnce[0]\n",
    "    \n",
    "    nuc_counts = count_nucleotides(space_seq)\n",
    "    dinuc_counts = count_dinucleotides(space_seq)\n",
    "    trinuc_counts = count_trinucleotides(space_seq)\n",
    "    \n",
    "    data =  merge_dicts(input_data, nuc_counts, dinuc_counts, trinuc_counts)\n",
    "    \n",
    "    nuc_freq_df = pd.DataFrame(data, index=[0])\n",
    "    \n",
    "    file_prefix = os.path.splitext(os.path.basename(input_file))[0]\n",
    "    \n",
    "    filename = file_prefix + '.nuc_freq.csv'\n",
    "    \n",
    "    output_path = os.path.join(output_folder, filename)\n",
    "    \n",
    "    create_dir(output_folder)\n",
    "    \n",
    "    nuc_freq_df.to_csv(output_path, index=False)\n",
    "    \n",
    "    return nuc_freq_df"
   ],
   "id": "da11e18833455ca6",
   "outputs": [],
   "execution_count": 35
  },
  {
   "metadata": {
    "ExecuteTime": {
     "end_time": "2024-09-25T01:46:03.833045Z",
     "start_time": "2024-09-25T01:46:01.340584Z"
    }
   },
   "cell_type": "code",
   "source": "df = create_db(passed_fasta,output_folder)",
   "id": "527d5b26594268c3",
   "outputs": [
    {
     "name": "stdout",
     "output_type": "stream",
     "text": [
      "Directory './Output/' is created or already exists.\n"
     ]
    }
   ],
   "execution_count": 36
  },
  {
   "metadata": {},
   "cell_type": "code",
   "outputs": [],
   "execution_count": null,
   "source": "",
   "id": "5f8d7abd3a2d65b5"
  }
 ],
 "metadata": {
  "kernelspec": {
   "display_name": "Python 3 (ipykernel)",
   "language": "python",
   "name": "python3"
  },
  "language_info": {
   "codemirror_mode": {
    "name": "ipython",
    "version": 3
   },
   "file_extension": ".py",
   "mimetype": "text/x-python",
   "name": "python",
   "nbconvert_exporter": "python",
   "pygments_lexer": "ipython3",
   "version": "3.11.5"
  }
 },
 "nbformat": 4,
 "nbformat_minor": 5
}
