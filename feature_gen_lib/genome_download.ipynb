{
 "cells": [
  {
   "metadata": {
    "ExecuteTime": {
     "end_time": "2024-09-25T02:45:16.597551Z",
     "start_time": "2024-09-25T02:45:15.997919Z"
    }
   },
   "cell_type": "code",
   "source": "from Bio import Entrez",
   "id": "95fbfac22e38ef99",
   "outputs": [],
   "execution_count": 11
  },
  {
   "metadata": {
    "ExecuteTime": {
     "end_time": "2024-09-25T02:35:42.236497Z",
     "start_time": "2024-09-25T02:35:41.131010Z"
    }
   },
   "cell_type": "code",
   "source": [
    "Entrez.email = \"edwardbird@ksu.edu\"\n",
    "fetch_handle = Entrez.efetch(db=\"nucleotide\", id=\"DAFGKT010000309.1\", rettype=\"fasta\", retmode=\"text\")\n",
    "fasta_data = fetch_handle.read()\n",
    "fetch_handle.close()\n",
    "# Print the fetched FASTA data to verify it's not empty\n",
    "print(f\"FASTA data for UID \")\n",
    "# Define the file name for the sequence\n",
    "file_name = f\"test.fasta\"\n",
    "file_path = os.path.join(file_name)\n",
    "# Save the FASTA data to the specified directory\n",
    "with open(file_path, \"w\") as fasta_file:\n",
    "     fasta_file.write(fasta_data)"
   ],
   "id": "e5d659dd00152a0a",
   "outputs": [
    {
     "ename": "NameError",
     "evalue": "name 'Entrez' is not defined",
     "output_type": "error",
     "traceback": [
      "\u001B[1;31m---------------------------------------------------------------------------\u001B[0m",
      "\u001B[1;31mNameError\u001B[0m                                 Traceback (most recent call last)",
      "Cell \u001B[1;32mIn[1], line 1\u001B[0m\n\u001B[1;32m----> 1\u001B[0m \u001B[43mEntrez\u001B[49m\u001B[38;5;241m.\u001B[39memail \u001B[38;5;241m=\u001B[39m \u001B[38;5;124m\"\u001B[39m\u001B[38;5;124medwardbird@ksu.edu\u001B[39m\u001B[38;5;124m\"\u001B[39m\n\u001B[0;32m      2\u001B[0m fetch_handle \u001B[38;5;241m=\u001B[39m Entrez\u001B[38;5;241m.\u001B[39mefetch(db\u001B[38;5;241m=\u001B[39m\u001B[38;5;124m\"\u001B[39m\u001B[38;5;124mnucleotide\u001B[39m\u001B[38;5;124m\"\u001B[39m, \u001B[38;5;28mid\u001B[39m\u001B[38;5;241m=\u001B[39m\u001B[38;5;124m\"\u001B[39m\u001B[38;5;124mDAFGKT010000309.1\u001B[39m\u001B[38;5;124m\"\u001B[39m, rettype\u001B[38;5;241m=\u001B[39m\u001B[38;5;124m\"\u001B[39m\u001B[38;5;124mfasta\u001B[39m\u001B[38;5;124m\"\u001B[39m, retmode\u001B[38;5;241m=\u001B[39m\u001B[38;5;124m\"\u001B[39m\u001B[38;5;124mtext\u001B[39m\u001B[38;5;124m\"\u001B[39m)\n\u001B[0;32m      3\u001B[0m fasta_data \u001B[38;5;241m=\u001B[39m fetch_handle\u001B[38;5;241m.\u001B[39mread()\n",
      "\u001B[1;31mNameError\u001B[0m: name 'Entrez' is not defined"
     ]
    }
   ],
   "execution_count": 1
  },
  {
   "metadata": {
    "ExecuteTime": {
     "end_time": "2024-09-24T16:54:33.973757Z",
     "start_time": "2024-09-24T16:54:33.930595Z"
    }
   },
   "cell_type": "code",
   "source": "fasta_data",
   "id": "ff631135c806d00f",
   "outputs": [
    {
     "data": {
      "text/plain": [
       "'>DAFGKT010000309.1 TPA_asm: Enterococcus faecium isolate DMG1901731 SAMEA9566021-rid13454823.guided.231, whole genome shotgun sequence\\nATTTGTATCGATAAGAAATAGATTTAAAAATTTCGCTGTTATTTTGTACATTTAACTTGACGGTGACATC\\nTCTCTATTGTGAGTTATTAGTGGTACAGTTTTCAACCGTTTTAATTATAAAAAAGTGGTGCATTTTTAAA\\nTTGGCACAAACAGGTAACGGTTATTGCAGGTGTATTTCTTATCTATGGGTTTAACATGGATTTTATCATT\\nAAAATCATGAGTATTGTCCGAGAGTGATTGGTCTTGCGTATGGTTAACCCTAAAGTTATGGAAATAAGAC\\nTTAGAAGCAAACTTAAGAGTGTGTTGATAGTGCATTATCTTAAAATTTTGTATAATAGGAATTGAAGTTA\\nAATTAGATGCTAAAAATTTGTAATTAAGAAGGAGGGATTCGTCATGTTGGTATTCCAAATGCGTTATGTA\\nGATAAAACATCTACTGTTTTGAAACAGACTAAAAACAGTGATTACGCAGATAAATAAATACGTTAGATTA\\nATTCCTACCAGTGACTAATCTTATGACTTTTTAAACAGATAACTAAAATTACAAACAAATCGTTTAACTT\\nCTGTATTTGTTTATAGATGTAATCACTTCAGGAGTGATAACATGAACAAAAATATAAAATATTCTCAAAA\\nCTTTTTAACGAGTGAAAAAGTACTCAACCAAATAATAAAACAATTGAATTTAAAAGAAACCGATACCGTT\\nTACGAAATTGGAACAGGTAAAGGGCATTTAACGACGAAACTGGCTAAAATAAGTAAACAGGTAACGTCTA\\nTTGAATTAGACAGTCATCTATTCAACTTATCGTCAGAAAAATTAAAACTGAATACTCGTGTCACTTTAAT\\nTCACCAAGATATTCTACAGTTTCAATTCCCTAACAAACAGAGGTATAAAATTGTTGGGAATATTCCTTAC\\nCATTTAAGCACACAAATTATTAAAAAAGTGGTTTTTGAAAGCCGTGCGTCTGACATCTATCTGATTGTTG\\nAAGAAGGATTCTACAAGCGTACCTTGGATATTCACCGAACACTAGGGTTGCTCTTGCACACTCAAGTCTC\\nGATTCAGCAATTGCTTAAGCTGCCAGCGGAATGCTTTCATCCTAAACCAAAAGTAAACAGTGTCTTAATA\\nAAACTTACCCGCCATACCACAGATGTTCCAGATAAATATTGGAAGCTATATACGTACTTTGTTTCAAAAT\\nGGGTCAATCGAGAATATCGTCAACTGTTTACTAAAAATCAGTTTCATCAAGCAATGAAACACGCCAAAGT\\nAAACAATTTAAGTACCGTTACTTATGAGCAAGTATTGTCTATTTTTAATAGTTATCTATTATTTAACGGG\\nAGGAAATAATTCTATGAGTCGCTTTTGTAAATTTGGAAAGTTACACGTTACTAAAGGGAATGTAGATAAA\\nTTATTAGGTATAGGGCACCTCTAATAACTACCAATTAATTCACCTCAAAATGAAATTAGAAAAAAACAGC\\nGAAATTTTTAAATCTATTTCTTATCGATACAAAT\\n\\n'"
      ]
     },
     "execution_count": 29,
     "metadata": {},
     "output_type": "execute_result"
    }
   ],
   "execution_count": 29
  },
  {
   "metadata": {},
   "cell_type": "code",
   "outputs": [],
   "execution_count": null,
   "source": "",
   "id": "3577e3ad952ccbda"
  }
 ],
 "metadata": {
  "kernelspec": {
   "display_name": "Python 3",
   "language": "python",
   "name": "python3"
  },
  "language_info": {
   "codemirror_mode": {
    "name": "ipython",
    "version": 2
   },
   "file_extension": ".py",
   "mimetype": "text/x-python",
   "name": "python",
   "nbconvert_exporter": "python",
   "pygments_lexer": "ipython2",
   "version": "2.7.6"
  }
 },
 "nbformat": 4,
 "nbformat_minor": 5
}
