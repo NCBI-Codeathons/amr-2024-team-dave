{
 "cells": [
  {
   "cell_type": "code",
   "execution_count": 5,
   "id": "9d9310c9-a25c-4543-99ce-d465b8a55470",
   "metadata": {},
   "outputs": [
    {
     "name": "stdout",
     "output_type": "stream",
     "text": [
      "        sample_id          A          C          G          T        AA  \\\n",
      "0  PDT000033762_1  1199977.0   769217.0   761144.0  1202883.0  318111.0   \n",
      "1  PDT000037633_1  1210784.0  1611223.0  1599606.0  1201643.0  235900.0   \n",
      "2  PDT000045124_1  1129772.0  2194587.0  2198235.0  1136066.0  180282.0   \n",
      "3  PDT000045144_1  1184780.0  2292894.0  2305511.0  1195384.0  188866.0   \n",
      "4  PDT000045164_1  1192458.0  2319835.0  2308750.0  1189986.0  189064.0   \n",
      "\n",
      "         AC        AG        AT        CA  ...      TGT       TTA       TTC  \\\n",
      "0  212145.0  213440.0  339528.0  271909.0  ...  58396.0  107560.0   73457.0   \n",
      "1  276537.0  303905.0  319170.0  366355.0  ...  51484.0   57035.0   84829.0   \n",
      "2  318024.0  379838.0  224577.0  409560.0  ...  51408.0   10276.0   98841.0   \n",
      "3  332845.0  397674.0  237257.0  428151.0  ...  53916.0   10688.0  103479.0   \n",
      "4  339084.0  399580.0  236431.0  436659.0  ...  53158.0   10002.0  103533.0   \n",
      "\n",
      "       TTG       TTT  CDS  gene  rRNA  tRNA  tmRNA  \n",
      "0  95990.0  107235.0  NaN   NaN   NaN   NaN    NaN  \n",
      "1  65077.0   67459.0  NaN   NaN   NaN   NaN    NaN  \n",
      "2  67949.0   25810.0  NaN   NaN   NaN   NaN    NaN  \n",
      "3  71561.0   27612.0  NaN   NaN   NaN   NaN    NaN  \n",
      "4  71606.0   26232.0  NaN   NaN   NaN   NaN    NaN  \n",
      "\n",
      "[5 rows x 90 columns]\n"
     ]
    }
   ],
   "source": [
    "import pandas as pd\n",
    "import os\n",
    "import glob\n",
    "\n",
    "# Directory containing your CSV files\n",
    "directory = 'D:/Codeathon/4th day/csv files'  # Replace with your directory path\n",
    "\n",
    "# Get the list of all files in the directory\n",
    "all_files = glob.glob(os.path.join(directory, \"*.csv\"))\n",
    "\n",
    "# Create a dictionary to store the data for each sample\n",
    "merged_data = {}\n",
    "\n",
    "# Function to add data from a file to the dictionary\n",
    "def add_to_merged_data(file_path, file_type):\n",
    "    df = pd.read_csv(file_path)\n",
    "    sample_id = df['sample_id'].iloc[0]  # Assuming the sample_id is the same in all rows\n",
    "\n",
    "    # If the sample ID is not yet in the dictionary, initialize it with the sample_id column\n",
    "    if sample_id not in merged_data:\n",
    "        merged_data[sample_id] = pd.DataFrame({'sample_id': df['sample_id']})\n",
    "    \n",
    "    # Merge the current dataframe with the existing one for this sample\n",
    "    merged_data[sample_id] = pd.merge(merged_data[sample_id], df, on='sample_id', how='outer')\n",
    "\n",
    "# Iterate over all files and process them based on their type (aa_freq, nuc_freq, prokka)\n",
    "for file_path in all_files:\n",
    "    if 'Updated_NUC_Features_Data' in file_path:\n",
    "        add_to_merged_data(file_path, 'Updated_NUC_Features_Data')\n",
    "    elif 'Updated_PROKKA_Data' in file_path:\n",
    "        add_to_merged_data(file_path, 'Updated_PROKKA_Data')\n",
    "\n",
    "# Combine all the sample dataframes into a single DataFrame\n",
    "final_df = pd.concat(merged_data.values(), ignore_index=True)\n",
    "\n",
    "# Save the merged DataFrame to a CSV file (optional)\n",
    "final_df.to_csv('merged_output_all_samples.csv', index=False)\n",
    "\n",
    "# Show the merged DataFrame\n",
    "print(final_df.head())\n"
   ]
  }
 ],
 "metadata": {
  "kernelspec": {
   "display_name": "Python 3 (ipykernel)",
   "language": "python",
   "name": "python3"
  },
  "language_info": {
   "codemirror_mode": {
    "name": "ipython",
    "version": 3
   },
   "file_extension": ".py",
   "mimetype": "text/x-python",
   "name": "python",
   "nbconvert_exporter": "python",
   "pygments_lexer": "ipython3",
   "version": "3.12.4"
  }
 },
 "nbformat": 4,
 "nbformat_minor": 5
}
