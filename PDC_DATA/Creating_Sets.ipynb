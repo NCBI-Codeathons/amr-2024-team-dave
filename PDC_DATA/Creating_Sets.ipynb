{
 "cells": [
  {
   "cell_type": "code",
   "execution_count": 7,
   "id": "788eb87e-a87d-41e8-9681-d4793c7e0859",
   "metadata": {},
   "outputs": [],
   "source": [
    "import os\n",
    "import pandas as pd\n",
    "from sklearn.model_selection import train_test_split"
   ]
  },
  {
   "cell_type": "markdown",
   "id": "ed7a6c83-86d9-41bf-8de7-af452639a19e",
   "metadata": {},
   "source": [
    "## Creating subsampled train/test sets for each species"
   ]
  },
  {
   "cell_type": "code",
   "execution_count": 4,
   "id": "65634b81-505a-4d2f-90ac-cd98980e33d7",
   "metadata": {},
   "outputs": [],
   "source": [
    "Data_sheets = {}\n",
    "\n",
    "for sheet in os.listdir('./Full_datasets/'):\n",
    "    \n",
    "    name = sheet.split('.')[0]\n",
    "\n",
    "    df = pd.read_csv('./Full_datasets/' + sheet)\n",
    "\n",
    "    Data_sheets[name] = df"
   ]
  },
  {
   "cell_type": "code",
   "execution_count": 6,
   "id": "404ffe21-ce5a-4217-86de-9017564eb411",
   "metadata": {},
   "outputs": [
    {
     "name": "stdout",
     "output_type": "stream",
     "text": [
      "There are 1611 in Acinetobacter_baumannii_clusters\n",
      "There are 554 in Enterobacter_cloacae_clusters\n",
      "There are 1862 in Enterococcus_faecium_clusters\n",
      "There are 9175 in Klebsiella_pneumoniae_clusters\n",
      "There are 3846 in Pseudomonas_aeruginosa_clusters\n",
      "There are 14073 in Staphylococcus_aureus_clusters\n"
     ]
    }
   ],
   "source": [
    "for name,df in Data_sheets.items():\n",
    "    print('There are ' + str(len(df)) + ' in ' + name)"
   ]
  },
  {
   "cell_type": "code",
   "execution_count": 8,
   "id": "c3902163-741f-47c9-b1aa-9b687f59165b",
   "metadata": {},
   "outputs": [],
   "source": [
    "subsampled_data = {}\n",
    "for name,df in Data_sheets.items():\n",
    "    subset = df.sample(n=500)\n",
    "    subsampled_data[name] = subset"
   ]
  },
  {
   "cell_type": "code",
   "execution_count": 9,
   "id": "5c5400b5-16b9-4deb-83c4-2a8146dc7b39",
   "metadata": {},
   "outputs": [
    {
     "name": "stdout",
     "output_type": "stream",
     "text": [
      "There are 500 in subset from Acinetobacter_baumannii_clusters\n",
      "There are 500 in subset from Enterobacter_cloacae_clusters\n",
      "There are 500 in subset from Enterococcus_faecium_clusters\n",
      "There are 500 in subset from Klebsiella_pneumoniae_clusters\n",
      "There are 500 in subset from Pseudomonas_aeruginosa_clusters\n",
      "There are 500 in subset from Staphylococcus_aureus_clusters\n"
     ]
    }
   ],
   "source": [
    "for name,df in subsampled_data.items():\n",
    "    print('There are ' + str(len(df)) + ' in subset from ' + name)"
   ]
  },
  {
   "cell_type": "code",
   "execution_count": 12,
   "id": "55a6785a-e490-4393-a317-a5b15acba66c",
   "metadata": {},
   "outputs": [],
   "source": [
    "train_dfs = []\n",
    "test_dfs = []\n",
    "\n",
    "for name,df in subsampled_data.items():\n",
    "    \n",
    "    train_df, test_df = train_test_split(df, test_size=0.2, random_state=42)\n",
    "\n",
    "    train_dfs.append(train_df)\n",
    "    test_dfs.append(test_df)\n",
    "    \n",
    "    #file_name_test = name + '_test.csv'\n",
    "    #file_name_train = name + '_train.csv'\n",
    "    \n",
    "    #train_df.to_csv(os.path.join('./Train_set', file_name_train), index=False)\n",
    "    #test_df.to_csv(os.path.join('./Test_set', file_name_test), index=False)"
   ]
  },
  {
   "cell_type": "code",
   "execution_count": 20,
   "id": "5f653e43-193b-4150-9172-93c8205724e3",
   "metadata": {},
   "outputs": [],
   "source": [
    "merge_train = pd.concat(train_dfs)\n",
    "merge_test = pd.concat(test_dfs)\n",
    "\n",
    "sample_name = []\n",
    "for acc in merge_train['target_acc']:\n",
    "    sample_name.append('_'.join(acc.split('.')))\n",
    "merge_train['Sample_Name'] = sample_name\n",
    "\n",
    "sample_name = []\n",
    "for acc in merge_test['target_acc']:\n",
    "    sample_name.append('_'.join(acc.split('.')))\n",
    "merge_test['Sample_Name'] = sample_name\n",
    "\n",
    "merge_train.to_csv('Train_set.csv', index=False)\n",
    "merge_test.to_csv('Test_set.csv', index=False)"
   ]
  },
  {
   "cell_type": "code",
   "execution_count": 21,
   "id": "8e2f01e8-f3fd-4229-aa83-cabdc8e868bc",
   "metadata": {},
   "outputs": [
    {
     "data": {
      "text/html": [
       "<div>\n",
       "<style scoped>\n",
       "    .dataframe tbody tr th:only-of-type {\n",
       "        vertical-align: middle;\n",
       "    }\n",
       "\n",
       "    .dataframe tbody tr th {\n",
       "        vertical-align: top;\n",
       "    }\n",
       "\n",
       "    .dataframe thead th {\n",
       "        text-align: right;\n",
       "    }\n",
       "</style>\n",
       "<table border=\"1\" class=\"dataframe\">\n",
       "  <thead>\n",
       "    <tr style=\"text-align: right;\">\n",
       "      <th></th>\n",
       "      <th>scientific_name</th>\n",
       "      <th>erd_group</th>\n",
       "      <th>target_acc</th>\n",
       "      <th>Sample_Name</th>\n",
       "    </tr>\n",
       "  </thead>\n",
       "  <tbody>\n",
       "    <tr>\n",
       "      <th>1456</th>\n",
       "      <td>Acinetobacter baumannii</td>\n",
       "      <td>PDS000126146.1</td>\n",
       "      <td>PDT001505758.1</td>\n",
       "      <td>PDT001505758_1</td>\n",
       "    </tr>\n",
       "    <tr>\n",
       "      <th>1079</th>\n",
       "      <td>Acinetobacter baumannii</td>\n",
       "      <td>PDS000103018.2</td>\n",
       "      <td>PDT001225601.1</td>\n",
       "      <td>PDT001225601_1</td>\n",
       "    </tr>\n",
       "    <tr>\n",
       "      <th>540</th>\n",
       "      <td>Acinetobacter baumannii</td>\n",
       "      <td>PDS000187626.1</td>\n",
       "      <td>PDT002152144.1</td>\n",
       "      <td>PDT002152144_1</td>\n",
       "    </tr>\n",
       "    <tr>\n",
       "      <th>378</th>\n",
       "      <td>Acinetobacter baumannii</td>\n",
       "      <td>PDS000155979.1</td>\n",
       "      <td>PDT001852468.1</td>\n",
       "      <td>PDT001852468_1</td>\n",
       "    </tr>\n",
       "    <tr>\n",
       "      <th>1034</th>\n",
       "      <td>Acinetobacter baumannii</td>\n",
       "      <td>PDS000142106.1</td>\n",
       "      <td>PDT001693185.1</td>\n",
       "      <td>PDT001693185_1</td>\n",
       "    </tr>\n",
       "  </tbody>\n",
       "</table>\n",
       "</div>"
      ],
      "text/plain": [
       "              scientific_name       erd_group      target_acc     Sample_Name\n",
       "1456  Acinetobacter baumannii  PDS000126146.1  PDT001505758.1  PDT001505758_1\n",
       "1079  Acinetobacter baumannii  PDS000103018.2  PDT001225601.1  PDT001225601_1\n",
       "540   Acinetobacter baumannii  PDS000187626.1  PDT002152144.1  PDT002152144_1\n",
       "378   Acinetobacter baumannii  PDS000155979.1  PDT001852468.1  PDT001852468_1\n",
       "1034  Acinetobacter baumannii  PDS000142106.1  PDT001693185.1  PDT001693185_1"
      ]
     },
     "execution_count": 21,
     "metadata": {},
     "output_type": "execute_result"
    }
   ],
   "source": [
    "merge_train.head()"
   ]
  },
  {
   "cell_type": "code",
   "execution_count": null,
   "id": "5d556793-8530-49e4-8f20-8b23032800e8",
   "metadata": {},
   "outputs": [],
   "source": []
  }
 ],
 "metadata": {
  "kernelspec": {
   "display_name": "Python 3 (ipykernel)",
   "language": "python",
   "name": "python3"
  },
  "language_info": {
   "codemirror_mode": {
    "name": "ipython",
    "version": 3
   },
   "file_extension": ".py",
   "mimetype": "text/x-python",
   "name": "python",
   "nbconvert_exporter": "python",
   "pygments_lexer": "ipython3",
   "version": "3.8.19"
  }
 },
 "nbformat": 4,
 "nbformat_minor": 5
}
