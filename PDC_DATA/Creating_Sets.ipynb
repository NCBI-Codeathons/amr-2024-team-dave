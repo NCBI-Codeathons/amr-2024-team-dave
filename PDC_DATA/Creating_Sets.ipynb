{
 "cells": [
  {
   "cell_type": "code",
   "execution_count": 18,
   "id": "788eb87e-a87d-41e8-9681-d4793c7e0859",
   "metadata": {},
   "outputs": [],
   "source": [
    "import os\n",
    "import pandas as pd\n",
    "from sklearn.model_selection import train_test_split"
   ]
  },
  {
   "cell_type": "markdown",
   "id": "ed7a6c83-86d9-41bf-8de7-af452639a19e",
   "metadata": {},
   "source": [
    "## Creating subsampled train/test sets for each species"
   ]
  },
  {
   "cell_type": "code",
   "execution_count": 19,
   "id": "65634b81-505a-4d2f-90ac-cd98980e33d7",
   "metadata": {},
   "outputs": [],
   "source": [
    "Data_sheets = {}\n",
    "\n",
    "for sheet in os.listdir('./Full_datasets/'):\n",
    "    \n",
    "    name = sheet.split('.')[0]\n",
    "\n",
    "    df = pd.read_csv('./Full_datasets/' + sheet)\n",
    "\n",
    "    Data_sheets[name] = df"
   ]
  },
  {
   "cell_type": "code",
   "execution_count": 20,
   "id": "404ffe21-ce5a-4217-86de-9017564eb411",
   "metadata": {},
   "outputs": [
    {
     "name": "stdout",
     "output_type": "stream",
     "text": [
      "There are 1611 in Acinetobacter_baumannii_clusters_full\n",
      "There are 554 in Enterobacter_cloacae_clusters_full\n",
      "There are 1862 in Enterococcus_faecium_clusters_full\n",
      "There are 9176 in Klebsiella_pneumoniae_clusters_full\n",
      "There are 3848 in Pseudomonas_aeruginosa_clusters_full\n",
      "There are 14082 in Staphylococcus_aureus_clusters_full\n"
     ]
    }
   ],
   "source": [
    "for name,df in Data_sheets.items():\n",
    "    print('There are ' + str(len(df)) + ' in ' + name)"
   ]
  },
  {
   "cell_type": "code",
   "execution_count": 21,
   "id": "cbbb6b43-dfc0-4a0d-b036-f74f80a07fb7",
   "metadata": {},
   "outputs": [],
   "source": [
    "data_sheets_nona = {}\n",
    "for name,df in Data_sheets.items():\n",
    "    data_sheets_nona[name] = df.dropna()"
   ]
  },
  {
   "cell_type": "code",
   "execution_count": 22,
   "id": "8cb8f982-5e58-41c4-b9a3-9b9561648922",
   "metadata": {},
   "outputs": [
    {
     "name": "stdout",
     "output_type": "stream",
     "text": [
      "There are 1329 in Acinetobacter_baumannii_clusters_full\n",
      "There are 81 in Enterobacter_cloacae_clusters_full\n",
      "There are 1165 in Enterococcus_faecium_clusters_full\n",
      "There are 6307 in Klebsiella_pneumoniae_clusters_full\n",
      "There are 2993 in Pseudomonas_aeruginosa_clusters_full\n",
      "There are 10599 in Staphylococcus_aureus_clusters_full\n"
     ]
    }
   ],
   "source": [
    "for name,df in data_sheets_nona.items():\n",
    "    print('There are ' + str(len(df)) + ' in ' + name)"
   ]
  },
  {
   "cell_type": "code",
   "execution_count": 24,
   "id": "080e2bb3-0423-4eee-b54c-7c9f5ed78f38",
   "metadata": {},
   "outputs": [
    {
     "ename": "KeyError",
     "evalue": "'Enterobacter_cloacae_clusters_full'",
     "output_type": "error",
     "traceback": [
      "\u001b[1;31m---------------------------------------------------------------------------\u001b[0m",
      "\u001b[1;31mKeyError\u001b[0m                                  Traceback (most recent call last)",
      "Cell \u001b[1;32mIn[24], line 1\u001b[0m\n\u001b[1;32m----> 1\u001b[0m \u001b[38;5;28;01mdel\u001b[39;00m data_sheets_nona[\u001b[38;5;124m'\u001b[39m\u001b[38;5;124mEnterobacter_cloacae_clusters_full\u001b[39m\u001b[38;5;124m'\u001b[39m]\n",
      "\u001b[1;31mKeyError\u001b[0m: 'Enterobacter_cloacae_clusters_full'"
     ]
    }
   ],
   "source": [
    "del data_sheets_nona['Enterobacter_cloacae_clusters_full']"
   ]
  },
  {
   "cell_type": "code",
   "execution_count": 31,
   "id": "c3902163-741f-47c9-b1aa-9b687f59165b",
   "metadata": {},
   "outputs": [],
   "source": [
    "subsampled_data = {}\n",
    "for name,df in data_sheets_nona.items():\n",
    "    subset = df.sample(n=500)\n",
    "    subsampled_data[name] = subset"
   ]
  },
  {
   "cell_type": "code",
   "execution_count": 32,
   "id": "5c5400b5-16b9-4deb-83c4-2a8146dc7b39",
   "metadata": {},
   "outputs": [
    {
     "name": "stdout",
     "output_type": "stream",
     "text": [
      "There are 500 in subset from Acinetobacter_baumannii_clusters_full\n",
      "There are 500 in subset from Enterococcus_faecium_clusters_full\n",
      "There are 500 in subset from Klebsiella_pneumoniae_clusters_full\n",
      "There are 500 in subset from Pseudomonas_aeruginosa_clusters_full\n",
      "There are 500 in subset from Staphylococcus_aureus_clusters_full\n"
     ]
    }
   ],
   "source": [
    "for name,df in subsampled_data.items():\n",
    "    print('There are ' + str(len(df)) + ' in subset from ' + name)"
   ]
  },
  {
   "cell_type": "code",
   "execution_count": 33,
   "id": "55a6785a-e490-4393-a317-a5b15acba66c",
   "metadata": {},
   "outputs": [],
   "source": [
    "train_dfs = []\n",
    "test_dfs = []\n",
    "\n",
    "for name,df in subsampled_data.items():\n",
    "    \n",
    "    train_df, test_df = train_test_split(df, test_size=0.2, random_state=42)\n",
    "\n",
    "    train_dfs.append(train_df)\n",
    "    test_dfs.append(test_df)\n",
    "    \n",
    "    #file_name_test = name + '_test.csv'\n",
    "    #file_name_train = name + '_train.csv'\n",
    "    \n",
    "    #train_df.to_csv(os.path.join('./Train_set', file_name_train), index=False)\n",
    "    #test_df.to_csv(os.path.join('./Test_set', file_name_test), index=False)"
   ]
  },
  {
   "cell_type": "code",
   "execution_count": 34,
   "id": "5f653e43-193b-4150-9172-93c8205724e3",
   "metadata": {},
   "outputs": [],
   "source": [
    "merge_train = pd.concat(train_dfs)\n",
    "merge_test = pd.concat(test_dfs)\n",
    "\n",
    "sample_name = []\n",
    "for acc in merge_train['target_acc']:\n",
    "    sample_name.append('_'.join(acc.split('.')))\n",
    "merge_train['Sample_Name'] = sample_name\n",
    "\n",
    "sample_name = []\n",
    "for acc in merge_test['target_acc']:\n",
    "    sample_name.append('_'.join(acc.split('.')))\n",
    "merge_test['Sample_Name'] = sample_name\n",
    "\n",
    "merge_train.to_csv('Train_set.csv', index=False)\n",
    "merge_test.to_csv('Test_set.csv', index=False)"
   ]
  },
  {
   "cell_type": "code",
   "execution_count": 35,
   "id": "8e2f01e8-f3fd-4229-aa83-cabdc8e868bc",
   "metadata": {},
   "outputs": [
    {
     "data": {
      "text/html": [
       "<div>\n",
       "<style scoped>\n",
       "    .dataframe tbody tr th:only-of-type {\n",
       "        vertical-align: middle;\n",
       "    }\n",
       "\n",
       "    .dataframe tbody tr th {\n",
       "        vertical-align: top;\n",
       "    }\n",
       "\n",
       "    .dataframe thead th {\n",
       "        text-align: right;\n",
       "    }\n",
       "</style>\n",
       "<table border=\"1\" class=\"dataframe\">\n",
       "  <thead>\n",
       "    <tr style=\"text-align: right;\">\n",
       "      <th></th>\n",
       "      <th>scientific_name</th>\n",
       "      <th>erd_group</th>\n",
       "      <th>target_acc</th>\n",
       "      <th>asm_acc</th>\n",
       "      <th>Sample_Name</th>\n",
       "    </tr>\n",
       "  </thead>\n",
       "  <tbody>\n",
       "    <tr>\n",
       "      <th>431</th>\n",
       "      <td>Acinetobacter baumannii</td>\n",
       "      <td>PDS000097582.27</td>\n",
       "      <td>PDT001210490.3</td>\n",
       "      <td>GCA_021273025.3</td>\n",
       "      <td>PDT001210490_3</td>\n",
       "    </tr>\n",
       "    <tr>\n",
       "      <th>1565</th>\n",
       "      <td>Acinetobacter baumannii</td>\n",
       "      <td>PDS000039207.1</td>\n",
       "      <td>PDT000417663.1</td>\n",
       "      <td>GCA_003941095.1</td>\n",
       "      <td>PDT000417663_1</td>\n",
       "    </tr>\n",
       "    <tr>\n",
       "      <th>1218</th>\n",
       "      <td>Acinetobacter baumannii</td>\n",
       "      <td>PDS000145468.5</td>\n",
       "      <td>PDT002111671.1</td>\n",
       "      <td>GCA_037129055.1</td>\n",
       "      <td>PDT002111671_1</td>\n",
       "    </tr>\n",
       "    <tr>\n",
       "      <th>699</th>\n",
       "      <td>Acinetobacter baumannii</td>\n",
       "      <td>PDS000167001.7</td>\n",
       "      <td>PDT001204861.3</td>\n",
       "      <td>GCA_021290725.3</td>\n",
       "      <td>PDT001204861_3</td>\n",
       "    </tr>\n",
       "    <tr>\n",
       "      <th>524</th>\n",
       "      <td>Acinetobacter baumannii</td>\n",
       "      <td>PDS000114536.1</td>\n",
       "      <td>PDT000463739.1</td>\n",
       "      <td>GCA_004153595.1</td>\n",
       "      <td>PDT000463739_1</td>\n",
       "    </tr>\n",
       "  </tbody>\n",
       "</table>\n",
       "</div>"
      ],
      "text/plain": [
       "              scientific_name        erd_group      target_acc  \\\n",
       "431   Acinetobacter baumannii  PDS000097582.27  PDT001210490.3   \n",
       "1565  Acinetobacter baumannii   PDS000039207.1  PDT000417663.1   \n",
       "1218  Acinetobacter baumannii   PDS000145468.5  PDT002111671.1   \n",
       "699   Acinetobacter baumannii   PDS000167001.7  PDT001204861.3   \n",
       "524   Acinetobacter baumannii   PDS000114536.1  PDT000463739.1   \n",
       "\n",
       "              asm_acc     Sample_Name  \n",
       "431   GCA_021273025.3  PDT001210490_3  \n",
       "1565  GCA_003941095.1  PDT000417663_1  \n",
       "1218  GCA_037129055.1  PDT002111671_1  \n",
       "699   GCA_021290725.3  PDT001204861_3  \n",
       "524   GCA_004153595.1  PDT000463739_1  "
      ]
     },
     "execution_count": 35,
     "metadata": {},
     "output_type": "execute_result"
    }
   ],
   "source": [
    "merge_train.head()"
   ]
  },
  {
   "cell_type": "code",
   "execution_count": null,
   "id": "9371950e-a4d7-4448-a7b5-1acef8deff26",
   "metadata": {},
   "outputs": [],
   "source": []
  }
 ],
 "metadata": {
  "kernelspec": {
   "display_name": "Python 3 (ipykernel)",
   "language": "python",
   "name": "python3"
  },
  "language_info": {
   "codemirror_mode": {
    "name": "ipython",
    "version": 3
   },
   "file_extension": ".py",
   "mimetype": "text/x-python",
   "name": "python",
   "nbconvert_exporter": "python",
   "pygments_lexer": "ipython3",
   "version": "3.8.19"
  }
 },
 "nbformat": 4,
 "nbformat_minor": 5
}
